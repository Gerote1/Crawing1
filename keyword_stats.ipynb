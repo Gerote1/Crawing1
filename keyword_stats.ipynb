{
 "cells": [
  {
   "cell_type": "code",
   "execution_count": 24,
   "metadata": {},
   "outputs": [],
   "source": [
    "import pandas as pd\n",
    "import pandas as pd\n",
    "import plotly.express as px\n",
    "\n",
    "\n",
    "\n",
    "\n"
   ]
  },
  {
   "cell_type": "code",
   "execution_count": null,
   "metadata": {},
   "outputs": [],
   "source": [
    "\n",
    "# Try using a different encoding\n",
    "df = pd.read_csv(\"keyword_stats.csv\")\n",
    "# Drop columns by index (e.g., drop the first and third columns)\n",
    "# Get the list of columns to drop after the 9th column\n",
    "columns_to_drop = df.columns[9:]\n",
    "\n",
    "# Drop these columns\n",
    "df.drop(columns=columns_to_drop,inplace=True)\n",
    "\n",
    "# Display the DataFrame with only the first 9 columns\n",
    "df\n"
   ]
  },
  {
   "cell_type": "code",
   "execution_count": 18,
   "metadata": {},
   "outputs": [],
   "source": [
    "\n",
    "\n",
    "# Alternatively, fill NaN values appropriately\n",
    "df['Avg. monthly searches'].fillna(df['Avg. monthly searches'].mean(), inplace=True)\n",
    "df['Three month change'].fillna(0, inplace=True)\n",
    "df['Top of page bid (low range)'].fillna(df['Top of page bid (low range)'].median(), inplace=True)\n",
    "df['Top of page bid (high range)'].fillna(df['Top of page bid (high range)'].median(), inplace=True)\n",
    "df['Keyword'].fillna('Unknown', inplace=True)\n",
    "\n",
    "df['Competition (indexed value)'] = df['Competition (indexed value)'].round(1)\n",
    "\n",
    "\n"
   ]
  },
  {
   "cell_type": "code",
   "execution_count": 25,
   "metadata": {},
   "outputs": [
    {
     "data": {
      "application/vnd.plotly.v1+json": {
       "config": {
        "plotlyServerURL": "https://plot.ly"
       },
       "data": [
        {
         "alignmentgroup": "True",
         "hovertemplate": "Keyword=%{x}<br>Average Monthly Searches=%{marker.color}<extra></extra>",
         "legendgroup": "",
         "marker": {
          "color": [
           50000,
           50000,
           50000,
           5000,
           5000,
           5000,
           5000,
           5000,
           5000,
           5000,
           5000,
           5000,
           5000,
           5000,
           5000,
           5000,
           5000,
           5000,
           568.0942184154176,
           500
          ],
          "coloraxis": "coloraxis",
          "pattern": {
           "shape": ""
          }
         },
         "name": "",
         "offsetgroup": "",
         "orientation": "v",
         "showlegend": false,
         "textposition": "auto",
         "type": "bar",
         "x": [
          "tcs it company",
          "boston consulting group it",
          "it consulting management",
          "it consultant",
          "it services company",
          "it consulting services",
          "deloitte it consulting",
          "ey it consulting",
          "ibm it consulting",
          "it consulting & services",
          "it and consulting services",
          "it services & consulting",
          "consulting services it",
          "slalom it consulting",
          "business it consulting services",
          "ernst and young it consulting",
          "serviced it consulting",
          "technical it consulting",
          "vir it consulting",
          "it consultants near me"
         ],
         "xaxis": "x",
         "y": [
          50000,
          50000,
          50000,
          5000,
          5000,
          5000,
          5000,
          5000,
          5000,
          5000,
          5000,
          5000,
          5000,
          5000,
          5000,
          5000,
          5000,
          5000,
          568.0942184154176,
          500
         ],
         "yaxis": "y"
        }
       ],
       "layout": {
        "barmode": "relative",
        "coloraxis": {
         "colorbar": {
          "title": {
           "text": "Average Monthly Searches"
          }
         },
         "colorscale": [
          [
           0,
           "#0d0887"
          ],
          [
           0.1111111111111111,
           "#46039f"
          ],
          [
           0.2222222222222222,
           "#7201a8"
          ],
          [
           0.3333333333333333,
           "#9c179e"
          ],
          [
           0.4444444444444444,
           "#bd3786"
          ],
          [
           0.5555555555555556,
           "#d8576b"
          ],
          [
           0.6666666666666666,
           "#ed7953"
          ],
          [
           0.7777777777777778,
           "#fb9f3a"
          ],
          [
           0.8888888888888888,
           "#fdca26"
          ],
          [
           1,
           "#f0f921"
          ]
         ]
        },
        "legend": {
         "tracegroupgap": 0
        },
        "template": {
         "data": {
          "bar": [
           {
            "error_x": {
             "color": "#2a3f5f"
            },
            "error_y": {
             "color": "#2a3f5f"
            },
            "marker": {
             "line": {
              "color": "#E5ECF6",
              "width": 0.5
             },
             "pattern": {
              "fillmode": "overlay",
              "size": 10,
              "solidity": 0.2
             }
            },
            "type": "bar"
           }
          ],
          "barpolar": [
           {
            "marker": {
             "line": {
              "color": "#E5ECF6",
              "width": 0.5
             },
             "pattern": {
              "fillmode": "overlay",
              "size": 10,
              "solidity": 0.2
             }
            },
            "type": "barpolar"
           }
          ],
          "carpet": [
           {
            "aaxis": {
             "endlinecolor": "#2a3f5f",
             "gridcolor": "white",
             "linecolor": "white",
             "minorgridcolor": "white",
             "startlinecolor": "#2a3f5f"
            },
            "baxis": {
             "endlinecolor": "#2a3f5f",
             "gridcolor": "white",
             "linecolor": "white",
             "minorgridcolor": "white",
             "startlinecolor": "#2a3f5f"
            },
            "type": "carpet"
           }
          ],
          "choropleth": [
           {
            "colorbar": {
             "outlinewidth": 0,
             "ticks": ""
            },
            "type": "choropleth"
           }
          ],
          "contour": [
           {
            "colorbar": {
             "outlinewidth": 0,
             "ticks": ""
            },
            "colorscale": [
             [
              0,
              "#0d0887"
             ],
             [
              0.1111111111111111,
              "#46039f"
             ],
             [
              0.2222222222222222,
              "#7201a8"
             ],
             [
              0.3333333333333333,
              "#9c179e"
             ],
             [
              0.4444444444444444,
              "#bd3786"
             ],
             [
              0.5555555555555556,
              "#d8576b"
             ],
             [
              0.6666666666666666,
              "#ed7953"
             ],
             [
              0.7777777777777778,
              "#fb9f3a"
             ],
             [
              0.8888888888888888,
              "#fdca26"
             ],
             [
              1,
              "#f0f921"
             ]
            ],
            "type": "contour"
           }
          ],
          "contourcarpet": [
           {
            "colorbar": {
             "outlinewidth": 0,
             "ticks": ""
            },
            "type": "contourcarpet"
           }
          ],
          "heatmap": [
           {
            "colorbar": {
             "outlinewidth": 0,
             "ticks": ""
            },
            "colorscale": [
             [
              0,
              "#0d0887"
             ],
             [
              0.1111111111111111,
              "#46039f"
             ],
             [
              0.2222222222222222,
              "#7201a8"
             ],
             [
              0.3333333333333333,
              "#9c179e"
             ],
             [
              0.4444444444444444,
              "#bd3786"
             ],
             [
              0.5555555555555556,
              "#d8576b"
             ],
             [
              0.6666666666666666,
              "#ed7953"
             ],
             [
              0.7777777777777778,
              "#fb9f3a"
             ],
             [
              0.8888888888888888,
              "#fdca26"
             ],
             [
              1,
              "#f0f921"
             ]
            ],
            "type": "heatmap"
           }
          ],
          "heatmapgl": [
           {
            "colorbar": {
             "outlinewidth": 0,
             "ticks": ""
            },
            "colorscale": [
             [
              0,
              "#0d0887"
             ],
             [
              0.1111111111111111,
              "#46039f"
             ],
             [
              0.2222222222222222,
              "#7201a8"
             ],
             [
              0.3333333333333333,
              "#9c179e"
             ],
             [
              0.4444444444444444,
              "#bd3786"
             ],
             [
              0.5555555555555556,
              "#d8576b"
             ],
             [
              0.6666666666666666,
              "#ed7953"
             ],
             [
              0.7777777777777778,
              "#fb9f3a"
             ],
             [
              0.8888888888888888,
              "#fdca26"
             ],
             [
              1,
              "#f0f921"
             ]
            ],
            "type": "heatmapgl"
           }
          ],
          "histogram": [
           {
            "marker": {
             "pattern": {
              "fillmode": "overlay",
              "size": 10,
              "solidity": 0.2
             }
            },
            "type": "histogram"
           }
          ],
          "histogram2d": [
           {
            "colorbar": {
             "outlinewidth": 0,
             "ticks": ""
            },
            "colorscale": [
             [
              0,
              "#0d0887"
             ],
             [
              0.1111111111111111,
              "#46039f"
             ],
             [
              0.2222222222222222,
              "#7201a8"
             ],
             [
              0.3333333333333333,
              "#9c179e"
             ],
             [
              0.4444444444444444,
              "#bd3786"
             ],
             [
              0.5555555555555556,
              "#d8576b"
             ],
             [
              0.6666666666666666,
              "#ed7953"
             ],
             [
              0.7777777777777778,
              "#fb9f3a"
             ],
             [
              0.8888888888888888,
              "#fdca26"
             ],
             [
              1,
              "#f0f921"
             ]
            ],
            "type": "histogram2d"
           }
          ],
          "histogram2dcontour": [
           {
            "colorbar": {
             "outlinewidth": 0,
             "ticks": ""
            },
            "colorscale": [
             [
              0,
              "#0d0887"
             ],
             [
              0.1111111111111111,
              "#46039f"
             ],
             [
              0.2222222222222222,
              "#7201a8"
             ],
             [
              0.3333333333333333,
              "#9c179e"
             ],
             [
              0.4444444444444444,
              "#bd3786"
             ],
             [
              0.5555555555555556,
              "#d8576b"
             ],
             [
              0.6666666666666666,
              "#ed7953"
             ],
             [
              0.7777777777777778,
              "#fb9f3a"
             ],
             [
              0.8888888888888888,
              "#fdca26"
             ],
             [
              1,
              "#f0f921"
             ]
            ],
            "type": "histogram2dcontour"
           }
          ],
          "mesh3d": [
           {
            "colorbar": {
             "outlinewidth": 0,
             "ticks": ""
            },
            "type": "mesh3d"
           }
          ],
          "parcoords": [
           {
            "line": {
             "colorbar": {
              "outlinewidth": 0,
              "ticks": ""
             }
            },
            "type": "parcoords"
           }
          ],
          "pie": [
           {
            "automargin": true,
            "type": "pie"
           }
          ],
          "scatter": [
           {
            "fillpattern": {
             "fillmode": "overlay",
             "size": 10,
             "solidity": 0.2
            },
            "type": "scatter"
           }
          ],
          "scatter3d": [
           {
            "line": {
             "colorbar": {
              "outlinewidth": 0,
              "ticks": ""
             }
            },
            "marker": {
             "colorbar": {
              "outlinewidth": 0,
              "ticks": ""
             }
            },
            "type": "scatter3d"
           }
          ],
          "scattercarpet": [
           {
            "marker": {
             "colorbar": {
              "outlinewidth": 0,
              "ticks": ""
             }
            },
            "type": "scattercarpet"
           }
          ],
          "scattergeo": [
           {
            "marker": {
             "colorbar": {
              "outlinewidth": 0,
              "ticks": ""
             }
            },
            "type": "scattergeo"
           }
          ],
          "scattergl": [
           {
            "marker": {
             "colorbar": {
              "outlinewidth": 0,
              "ticks": ""
             }
            },
            "type": "scattergl"
           }
          ],
          "scattermapbox": [
           {
            "marker": {
             "colorbar": {
              "outlinewidth": 0,
              "ticks": ""
             }
            },
            "type": "scattermapbox"
           }
          ],
          "scatterpolar": [
           {
            "marker": {
             "colorbar": {
              "outlinewidth": 0,
              "ticks": ""
             }
            },
            "type": "scatterpolar"
           }
          ],
          "scatterpolargl": [
           {
            "marker": {
             "colorbar": {
              "outlinewidth": 0,
              "ticks": ""
             }
            },
            "type": "scatterpolargl"
           }
          ],
          "scatterternary": [
           {
            "marker": {
             "colorbar": {
              "outlinewidth": 0,
              "ticks": ""
             }
            },
            "type": "scatterternary"
           }
          ],
          "surface": [
           {
            "colorbar": {
             "outlinewidth": 0,
             "ticks": ""
            },
            "colorscale": [
             [
              0,
              "#0d0887"
             ],
             [
              0.1111111111111111,
              "#46039f"
             ],
             [
              0.2222222222222222,
              "#7201a8"
             ],
             [
              0.3333333333333333,
              "#9c179e"
             ],
             [
              0.4444444444444444,
              "#bd3786"
             ],
             [
              0.5555555555555556,
              "#d8576b"
             ],
             [
              0.6666666666666666,
              "#ed7953"
             ],
             [
              0.7777777777777778,
              "#fb9f3a"
             ],
             [
              0.8888888888888888,
              "#fdca26"
             ],
             [
              1,
              "#f0f921"
             ]
            ],
            "type": "surface"
           }
          ],
          "table": [
           {
            "cells": {
             "fill": {
              "color": "#EBF0F8"
             },
             "line": {
              "color": "white"
             }
            },
            "header": {
             "fill": {
              "color": "#C8D4E3"
             },
             "line": {
              "color": "white"
             }
            },
            "type": "table"
           }
          ]
         },
         "layout": {
          "annotationdefaults": {
           "arrowcolor": "#2a3f5f",
           "arrowhead": 0,
           "arrowwidth": 1
          },
          "autotypenumbers": "strict",
          "coloraxis": {
           "colorbar": {
            "outlinewidth": 0,
            "ticks": ""
           }
          },
          "colorscale": {
           "diverging": [
            [
             0,
             "#8e0152"
            ],
            [
             0.1,
             "#c51b7d"
            ],
            [
             0.2,
             "#de77ae"
            ],
            [
             0.3,
             "#f1b6da"
            ],
            [
             0.4,
             "#fde0ef"
            ],
            [
             0.5,
             "#f7f7f7"
            ],
            [
             0.6,
             "#e6f5d0"
            ],
            [
             0.7,
             "#b8e186"
            ],
            [
             0.8,
             "#7fbc41"
            ],
            [
             0.9,
             "#4d9221"
            ],
            [
             1,
             "#276419"
            ]
           ],
           "sequential": [
            [
             0,
             "#0d0887"
            ],
            [
             0.1111111111111111,
             "#46039f"
            ],
            [
             0.2222222222222222,
             "#7201a8"
            ],
            [
             0.3333333333333333,
             "#9c179e"
            ],
            [
             0.4444444444444444,
             "#bd3786"
            ],
            [
             0.5555555555555556,
             "#d8576b"
            ],
            [
             0.6666666666666666,
             "#ed7953"
            ],
            [
             0.7777777777777778,
             "#fb9f3a"
            ],
            [
             0.8888888888888888,
             "#fdca26"
            ],
            [
             1,
             "#f0f921"
            ]
           ],
           "sequentialminus": [
            [
             0,
             "#0d0887"
            ],
            [
             0.1111111111111111,
             "#46039f"
            ],
            [
             0.2222222222222222,
             "#7201a8"
            ],
            [
             0.3333333333333333,
             "#9c179e"
            ],
            [
             0.4444444444444444,
             "#bd3786"
            ],
            [
             0.5555555555555556,
             "#d8576b"
            ],
            [
             0.6666666666666666,
             "#ed7953"
            ],
            [
             0.7777777777777778,
             "#fb9f3a"
            ],
            [
             0.8888888888888888,
             "#fdca26"
            ],
            [
             1,
             "#f0f921"
            ]
           ]
          },
          "colorway": [
           "#636efa",
           "#EF553B",
           "#00cc96",
           "#ab63fa",
           "#FFA15A",
           "#19d3f3",
           "#FF6692",
           "#B6E880",
           "#FF97FF",
           "#FECB52"
          ],
          "font": {
           "color": "#2a3f5f"
          },
          "geo": {
           "bgcolor": "white",
           "lakecolor": "white",
           "landcolor": "#E5ECF6",
           "showlakes": true,
           "showland": true,
           "subunitcolor": "white"
          },
          "hoverlabel": {
           "align": "left"
          },
          "hovermode": "closest",
          "mapbox": {
           "style": "light"
          },
          "paper_bgcolor": "white",
          "plot_bgcolor": "#E5ECF6",
          "polar": {
           "angularaxis": {
            "gridcolor": "white",
            "linecolor": "white",
            "ticks": ""
           },
           "bgcolor": "#E5ECF6",
           "radialaxis": {
            "gridcolor": "white",
            "linecolor": "white",
            "ticks": ""
           }
          },
          "scene": {
           "xaxis": {
            "backgroundcolor": "#E5ECF6",
            "gridcolor": "white",
            "gridwidth": 2,
            "linecolor": "white",
            "showbackground": true,
            "ticks": "",
            "zerolinecolor": "white"
           },
           "yaxis": {
            "backgroundcolor": "#E5ECF6",
            "gridcolor": "white",
            "gridwidth": 2,
            "linecolor": "white",
            "showbackground": true,
            "ticks": "",
            "zerolinecolor": "white"
           },
           "zaxis": {
            "backgroundcolor": "#E5ECF6",
            "gridcolor": "white",
            "gridwidth": 2,
            "linecolor": "white",
            "showbackground": true,
            "ticks": "",
            "zerolinecolor": "white"
           }
          },
          "shapedefaults": {
           "line": {
            "color": "#2a3f5f"
           }
          },
          "ternary": {
           "aaxis": {
            "gridcolor": "white",
            "linecolor": "white",
            "ticks": ""
           },
           "baxis": {
            "gridcolor": "white",
            "linecolor": "white",
            "ticks": ""
           },
           "bgcolor": "#E5ECF6",
           "caxis": {
            "gridcolor": "white",
            "linecolor": "white",
            "ticks": ""
           }
          },
          "title": {
           "x": 0.05
          },
          "xaxis": {
           "automargin": true,
           "gridcolor": "white",
           "linecolor": "white",
           "ticks": "",
           "title": {
            "standoff": 15
           },
           "zerolinecolor": "white",
           "zerolinewidth": 2
          },
          "yaxis": {
           "automargin": true,
           "gridcolor": "white",
           "linecolor": "white",
           "ticks": "",
           "title": {
            "standoff": 15
           },
           "zerolinecolor": "white",
           "zerolinewidth": 2
          }
         }
        },
        "title": {
         "text": "Top 20 Keywords by Average Monthly Searches"
        },
        "xaxis": {
         "anchor": "y",
         "domain": [
          0,
          1
         ],
         "title": {
          "text": "Keyword"
         }
        },
        "yaxis": {
         "anchor": "x",
         "domain": [
          0,
          1
         ],
         "title": {
          "text": "Average Monthly Searches"
         }
        }
       }
      }
     },
     "metadata": {},
     "output_type": "display_data"
    }
   ],
   "source": [
    "\n",
    "##Top Keywords by Average Monthly Searche\n",
    "top_keywords = df.nlargest(20, 'Avg. monthly searches')\n",
    "\n",
    "fig = px.bar(top_keywords, x='Keyword', y='Avg. monthly searches',\n",
    "             title='Top 20 Keywords by Average Monthly Searches',\n",
    "             labels={'Avg. monthly searches': 'Average Monthly Searches'},\n",
    "             color='Avg. monthly searches')\n",
    "\n",
    "fig.show()\n"
   ]
  },
  {
   "cell_type": "code",
   "execution_count": 26,
   "metadata": {},
   "outputs": [
    {
     "data": {
      "application/vnd.plotly.v1+json": {
       "config": {
        "plotlyServerURL": "https://plot.ly"
       },
       "data": [
        {
         "hovertemplate": "<b>%{hovertext}</b><br><br>3-Month Change (%)=%{x}<br>Year-over-Year Change (%)=%{y}<extra></extra>",
         "hovertext": [
          "it consultant",
          "it consultants near me",
          "it consultant company",
          "it services company",
          "it services and it consulting",
          "it consulting companies near me",
          "it consulting firms near me",
          "it consulting services",
          "top it consulting firms",
          "it consulting firms",
          "small business it consultant",
          "it consulting business",
          "it services and it consulting companies",
          "it security consulting",
          "small business it consultant near me",
          "it business consultant",
          "best it consulting firms",
          "it services and consulting",
          "deloitte it consulting",
          "it consulting website",
          "it consulting services near me",
          "it advisory",
          "it support consultant",
          "it advisory services",
          "top it consulting companies",
          "ey it consulting",
          "best it consulting websites",
          "it consulting services for small business",
          "biggest it consulting firms",
          "it management consultant",
          "ibm it consulting",
          "accenture it consulting",
          "it audit consultant",
          "largest it consulting firms",
          "it consulting and services companies",
          "it services consulting companies",
          "it strategy consultant",
          "local it consultants",
          "it services and consulting companies",
          "best it consulting companies",
          "it cloud consulting services",
          "it consulting software",
          "it software consulting companies",
          "it consulting and outsourcing company",
          "tcs it company",
          "it project management consultant",
          "it infrastructure consulting",
          "it strategy consulting firms",
          "it consulting services companies",
          "top it consulting firms in us",
          "it network consultant",
          "it tech consultant",
          "pwc it consulting",
          "it audit consulting firms",
          "it security consulting firms",
          "it software consultant",
          "independent it consultant",
          "private it consultant",
          "ict consulting",
          "it systems consultant",
          "large it consulting firms",
          "it consulting & services",
          "professional it services & technology consulting",
          "it consulting group",
          "it project management companies",
          "it consultant microsoft",
          "find an it consultant",
          "local it consulting firms",
          "it consulting and software development",
          "raye it consulting",
          "it project management consulting services",
          "it and consulting services",
          "ahead it consulting",
          "it consulting experts",
          "it project consultant",
          "it technology consulting",
          "it strategy mckinsey",
          "ey it services and it consulting",
          "it consulting agencies",
          "cloud it consulting",
          "afineol it consulting",
          "it consulting and support",
          "top 10 it consulting companies",
          "it management consulting companies",
          "it consulting outsourcing",
          "it cyber security consultant",
          "it consulting dfw",
          "it business consulting services",
          "top it consulting firms us",
          "top it consultants",
          "top it consulting firms 2022",
          "kpmg it consulting",
          "it services & consulting",
          "small it consulting firms",
          "a2c it consulting",
          "tcs it",
          "sap it consultant",
          "it assessment consulting",
          "salesforce it consulting",
          "it strategy and consulting",
          "bi it consulting",
          "it outsourcing consulting",
          "it service management consultant",
          "it and consulting",
          "outsourced it consulting",
          "it audit consulting services",
          "it support and consulting",
          "netsolutions it consulting",
          "it compliance consultant",
          "thalamus it consulting",
          "leading it consulting firms",
          "top 10 it consulting firms",
          "it services it consulting",
          "best it consulting",
          "it security consulting companies",
          "tata it consulting",
          "anm it consulting",
          "quarry it consulting",
          "atlantis it consulting",
          "it advisory firms",
          "international it consulting firms",
          "computer it consulting services",
          "it infrastructure consulting services",
          "it audit advisory",
          "managed it consulting",
          "accenture it strategy",
          "global it consulting",
          "it strategy services",
          "it operations consultant",
          "wipro it consulting",
          "solomon it consulting",
          "it implementation consultant",
          "it solution consulting",
          "it risk consultant",
          "mckenzie it company",
          "prosource it consulting inc",
          "it governance consultant",
          "it empowerment consulting",
          "enterprise it consulting services",
          "consulting services it",
          "it consulting software development",
          "forrester it consulting",
          "it senior consultant",
          "rena consulting it audit",
          "software it consulting",
          "it advisory companies",
          "it consulting for business",
          "it consultant sap",
          "it consulting and support services",
          "strategic it consulting services",
          "it consulting managed services",
          "shaleen arora it consultant",
          "canadian it consulting companies",
          "small it consulting companies",
          "business and it consulting",
          "jones it consulting",
          "it consulting inc",
          "xtracit it consulting",
          "professional it consultant",
          "phoenix it consultants",
          "deloitte it strategy",
          "it infrastructure consulting firms",
          "melbourne it consulting",
          "professional it consulting services",
          "certified it consultants",
          "corporate it consulting",
          "it services and it consulting company",
          "biggest it consulting companies",
          "top it consulting services",
          "top it strategy consulting firms",
          "global it consulting services",
          "it security consulting services",
          "visual it consulting",
          "ubds it consulting",
          "mckinsey it consulting",
          "maximovich it consulting",
          "it resourcing",
          "launch it consulting",
          "top 50 it consulting firms",
          "kpmg it advisory",
          "capgemini it consultant",
          "it consulting cloud services",
          "top 100 it consulting firms",
          "global it consulting companies",
          "a2z it consulting inc",
          "steadfast it consulting",
          "slalom it consulting",
          "cgi it consulting",
          "meraki it consulting",
          "it advisory consultant",
          "a2z it consulting",
          "abjima it consulting",
          "absyntech it consultant",
          "accelerated it services & consulting gmbh",
          "accesa it consulting",
          "adesso it consultant",
          "adisatya it consultant",
          "advanced it consultant",
          "advanced it consulting services",
          "agile it consulting",
          "agility it consulting",
          "agriculture it consulting",
          "agriculture it consulting firms",
          "agtech it consulting firms",
          "albatross it consultants",
          "align it consulting",
          "alliance it consulting",
          "aman it consulting",
          "an it consultant",
          "as it consulting",
          "atos it consulting",
          "atoz it consulting",
          "atribs it consulting",
          "avatar it consulting",
          "az it consulting",
          "bain it consulting",
          "being an it consultant",
          "best agriculture it consulting",
          "best agriculture it consulting firms",
          "best agtech it consulting",
          "best agtech it consulting firms",
          "best it consulting firms near me",
          "best it consulting services",
          "best it security consulting firms",
          "best it strategy consulting",
          "best it strategy consulting firms",
          "bhok it consulting inc",
          "bi it consulting services",
          "big4 it company",
          "bigfoot it consulting",
          "biggest it consulting",
          "bluehub it consultants",
          "boston consulting group it",
          "brillio it company",
          "business & it consulting",
          "business consultant ict",
          "business it consulting firm",
          "business it consulting services",
          "capco it",
          "ckr it consulting",
          "cloudconsole it consulting",
          "computer it consultant",
          "consultant it risk",
          "consultant it service management",
          "consulting for it companies",
          "cpg it consulting",
          "crystal it consulting",
          "cwk it consulting",
          "cwk it consulting gmbh",
          "cybersec it consulting",
          "dc it consulting",
          "dell it consulting",
          "deloitte consulting it",
          "deloitte it advisory",
          "deloitte it risk advisory",
          "dex it consulting",
          "dms it consulting",
          "dws it consulting",
          "dyna it consultants",
          "e & e it consulting services inc",
          "e and e it consulting",
          "east bay it consulting",
          "ecm it consulting",
          "entune it consulting",
          "epcon it consulting",
          "epcon it consulting gmbh",
          "ernst and young it consulting",
          "esd it consulting",
          "evantage it consulting services",
          "exit it consulting",
          "expert it consultants",
          "external it consultant",
          "ey it advisory",
          "fluid it consulting",
          "foco it consulting",
          "french it consulting company",
          "frontside it consulting",
          "fujitsu it consulting",
          "gemini it consulting",
          "gemsource it consulting",
          "ggs it consulting",
          "global it consulting firms",
          "globality it consulting",
          "gradient m it consulting",
          "gravity it consulting",
          "green it consultant",
          "green leaf it consulting",
          "greystone it consulting",
          "hb it consulting",
          "hcl it consulting",
          "hungry bird it consulting services",
          "ibm it consulting services",
          "indice it consulting",
          "information technology it consultant",
          "information technology it consulting and support services",
          "information technology it consulting services",
          "innovative it consulting",
          "international it consultant",
          "isg it consulting",
          "it and business consulting companies",
          "it and cybersecurity consulting",
          "it and management consulting",
          "it asset management consulting",
          "it auditor consultant",
          "it business strategy services",
          "it company consulting",
          "it computer consultant",
          "it consu",
          "it consultant capgemini",
          "it consultant developer",
          "it consultant ey",
          "it consultant for manufacturing",
          "it consultant oracle",
          "it consulting & outsourcing provider",
          "it consulting & strategy",
          "it consulting and managed services",
          "it consulting and outsourcing",
          "it consulting asset management",
          "it consulting banking",
          "it consulting business software",
          "it consulting firm services",
          "it consulting for hospitality",
          "it consulting for manufacturing companies",
          "it consulting group inc",
          "it consulting management",
          "it consulting mnc",
          "it consulting network",
          "it consulting process",
          "it consulting professional services",
          "it consulting project",
          "it consulting provider",
          "it consulting real estate",
          "it consulting service offerings",
          "it consulting service provider",
          "it consulting services firm",
          "it consulting solution",
          "it consulting south bay",
          "it consulting startups",
          "it consulting support",
          "it consulting to management consulting",
          "it design consulting",
          "it development consultant",
          "it domain in tcs",
          "it erp consulting",
          "it expert consulting",
          "it factor consulting",
          "it governance consulting services",
          "it information technology consultant",
          "it infrastructure consulting companies",
          "it infrastructure management consulting",
          "it managed service consultant",
          "it management and consulting",
          "it management consulting & auditing",
          "it management consulting firms",
          "it management consulting services",
          "it network consulting services",
          "it process consulting",
          "it product consultant",
          "it professional consulting",
          "it project management consulting companies",
          "it project management consulting firms",
          "it risk and advisory",
          "it service delivery consultant",
          "it service provider consulting",
          "it software consulting services",
          "it sourcing advisory",
          "it sourcing advisory firms",
          "it strategy consulting services",
          "it support and consulting services",
          "it support services and consulting",
          "it technology consulting services",
          "it trailblazers consulting",
          "it web consultants",
          "iws consulting it advisory company",
          "joy it consulting",
          "k2 it consulting",
          "keystone it consulting",
          "kinonah it consulting services",
          "largest it consulting companies",
          "local it consulting services",
          "lpj it consulting",
          "managed it consulting services",
          "managed it services consulting",
          "managed services it consultant",
          "manufacturing it consulting",
          "mb it consulting",
          "mbm it consulting",
          "meditech it consulting",
          "mercer it company",
          "metscon it consulting",
          "microvision it consultant",
          "mind it consulting",
          "mm it consulting",
          "modis it consulting",
          "moot it consulting",
          "motshwanelo it consulting",
          "mouri tech it consulting",
          "mouritech it consulting",
          "nagarro it consulting & services",
          "nestor it consultants",
          "network it consulting services",
          "nevadian it consulting",
          "new wave it consulting",
          "noc for it consultant",
          "noc it consultant",
          "non profit it consulting",
          "nss it consultants",
          "offshore it consulting",
          "pacavo it consulting",
          "palmer it consultants",
          "paragon it consulting",
          "phi it consulting",
          "photon it consulting",
          "pioneers it & business consulting",
          "point it consulting",
          "poonam it consulting",
          "poonam it consulting services",
          "prodigy it consulting",
          "protiviti it",
          "protiviti it audit",
          "protiviti it consulting",
          "provide it consulting",
          "pwc it advisory",
          "ramkrishna it consulting",
          "real it consultants",
          "reizend it consultants technopark",
          "renovize it consulting",
          "rsi it consulting",
          "saas it consulting",
          "sage it consulting",
          "sankalit it consultant",
          "sap services it consulting",
          "sapster it consulting",
          "sarp it consultant",
          "sazan it consulting",
          "sazan it consulting inc",
          "secure it consulting",
          "serviced it consulting",
          "silicon soft and it consultant",
          "simplified it consulting",
          "sirius it consulting",
          "sivils it consulting",
          "skanda it consulting",
          "slk it services and it consulting",
          "softsages technology it consulting services cyber security",
          "source it consulting",
          "synergy it consulting",
          "tcs it consulting",
          "tcs it infrastructure",
          "tech era it consulting",
          "technical it consulting",
          "technology consulting & it services",
          "telecom it consulting",
          "the it consultant",
          "think it consulting",
          "thoughtworks it company",
          "top 4 it consulting firms",
          "top 5 it consulting firms",
          "top global it consulting firms",
          "top it project management consulting firms",
          "vault it consulting",
          "vendorcom it consulting",
          "vir it consulting",
          "vls it consulting",
          "vukile it consulting",
          "western bridger it consultants",
          "world's biggest it consulting firms",
          "world's largest it consulting companies"
         ],
         "legendgroup": "",
         "marker": {
          "color": "#636efa",
          "symbol": "circle"
         },
         "mode": "markers",
         "name": "",
         "orientation": "v",
         "showlegend": false,
         "type": "scatter",
         "x": [
          "0%",
          "0%",
          "0%",
          "0%",
          "0%",
          "-90%",
          "-90%",
          "0%",
          "0%",
          "0%",
          "0%",
          "0%",
          "0%",
          "0%",
          "0%",
          "0%",
          "0%",
          "0%",
          "0%",
          "0%",
          "0%",
          "-90%",
          "0%",
          "0%",
          "0%",
          "0%",
          "0%",
          "0%",
          "0%",
          "0%",
          "0%",
          "0%",
          "0%",
          "0%",
          "0%",
          "0%",
          "-90%",
          "0%",
          "0%",
          "0%",
          "0%",
          "0%",
          "0%",
          "0%",
          "0%",
          "0%",
          "0%",
          "0%",
          "0%",
          "0%",
          "0%",
          "0%",
          "0%",
          "0%",
          "0%",
          "0%",
          "0%",
          "0%",
          "0%",
          "0%",
          "0%",
          "0%",
          "0%",
          "0%",
          "0%",
          "0%",
          "0%",
          "∞",
          "0%",
          "0%",
          "0%",
          "0%",
          "0%",
          "0%",
          "0%",
          "0%",
          "0%",
          "0%",
          "0%",
          "0%",
          "0%",
          "0%",
          "0%",
          "0%",
          "0%",
          "0%",
          "0%",
          "0%",
          "0%",
          "0%",
          "∞",
          "0%",
          "0%",
          "0%",
          "0%",
          "0%",
          "0%",
          "0%",
          "-100%",
          "-90%",
          "∞",
          "-100%",
          "0%",
          "0%",
          "0%",
          "0%",
          "0%",
          "-100%",
          "-100%",
          "-100%",
          "0%",
          "0%",
          "0%",
          "0%",
          "0%",
          "0%",
          "0%",
          "0%",
          "0%",
          "0%",
          "0%",
          "∞",
          "0%",
          "0%",
          "0%",
          "0%",
          "0%",
          "0%",
          "0%",
          "0%",
          "0%",
          "0%",
          "0%",
          "0%",
          "-100%",
          "0%",
          "0%",
          "0%",
          "0%",
          "0%",
          "0%",
          "0%",
          "0%",
          "∞",
          "0%",
          "0%",
          "0%",
          "0%",
          "0%",
          "0%",
          "-100%",
          "0%",
          "-90%",
          "0%",
          "0%",
          "0%",
          "0%",
          "-100%",
          "0%",
          "0%",
          "-100%",
          "0%",
          "0%",
          "0%",
          "0%",
          "0%",
          "0%",
          "0%",
          "0%",
          "0%",
          "0%",
          "0%",
          "0%",
          "0%",
          "0%",
          "-100%",
          "0%",
          "0%",
          "0%",
          "0%",
          "0%",
          "-100%",
          "0%",
          "0%",
          "0%",
          "0%",
          "0%",
          "0%",
          "-100%",
          "0%",
          "0%",
          "0%",
          "0%",
          "∞",
          "-100%",
          "0%",
          "0%",
          "0%",
          "∞",
          "∞",
          "0%",
          "0%",
          "0%",
          "0%",
          "0%",
          "0%",
          "0%",
          "0%",
          "∞",
          "0%",
          "-100%",
          "0%",
          "0%",
          "0%",
          "0%",
          "0%",
          "0%",
          "0%",
          "0%",
          "0%",
          "0%",
          "0%",
          "0%",
          "-100%",
          "0%",
          "∞",
          "0%",
          "0%",
          "0%",
          "0%",
          "0%",
          "0%",
          "0%",
          "0%",
          "0%",
          "∞",
          "∞",
          "0%",
          "0%",
          "0%",
          "0%",
          "0%",
          "0%",
          "0%",
          "0%",
          "0%",
          "∞",
          "0%",
          "∞",
          "0%",
          "-100%",
          "0%",
          "∞",
          "0%",
          "∞",
          "0%",
          "0%",
          "0%",
          "0%",
          "-100%",
          "0%",
          "0%",
          "0%",
          "0%",
          "-100%",
          "0%",
          "0%",
          "0%",
          "0%",
          "0%",
          "0%",
          "0%",
          "0%",
          "0%",
          "-100%",
          "-100%",
          "0%",
          "0%",
          "0%",
          "0%",
          "0%",
          "0%",
          "0%",
          "0%",
          "0%",
          "0%",
          "0%",
          "0%",
          "0%",
          "0%",
          "0%",
          "-100%",
          "0%",
          "0%",
          "0%",
          "∞",
          "-100%",
          "∞",
          "0%",
          "0%",
          "0%",
          "0%",
          "∞",
          "-100%",
          "0%",
          "0%",
          "0%",
          "0%",
          "0%",
          "∞",
          "0%",
          "0%",
          "∞",
          "0%",
          "∞",
          "0%",
          "0%",
          "0%",
          "-100%",
          "∞",
          "0%",
          "-100%",
          "0%",
          "∞",
          "0%",
          "0%",
          "0%",
          "0%",
          "∞",
          "0%",
          "0%",
          "0%",
          "-100%",
          "-100%",
          "0%",
          "0%",
          "0%",
          "0%",
          "0%",
          "0%",
          "-100%",
          "-100%",
          "0%",
          "0%",
          "-100%",
          "0%",
          "0%",
          "0%",
          "0%",
          "-100%",
          "0%",
          "0%",
          "0%",
          "0%",
          "0%",
          "0%",
          "0%",
          "0%",
          "∞",
          "0%",
          "0%",
          "0%",
          "0%",
          "0%",
          "∞",
          "∞",
          "0%",
          "0%",
          "0%",
          "0%",
          "0%",
          "0%",
          "0%",
          "∞",
          "0%",
          "0%",
          "-100%",
          "0%",
          "0%",
          "0%",
          "0%",
          "0%",
          "0%",
          "0%",
          "0%",
          "-100%",
          "-100%",
          "0%",
          "0%",
          "0%",
          "0%",
          "∞",
          "0%",
          "0%",
          "0%",
          "-100%",
          "0%",
          "0%",
          "-100%",
          "0%",
          "0%",
          "0%",
          "∞",
          "0%",
          "0%",
          "0%",
          "-100%",
          "∞",
          "0%",
          "0%",
          "∞",
          "-100%",
          "∞",
          "0%",
          "0%",
          "0%",
          "0%",
          "0%",
          "-100%",
          "0%",
          "0%",
          "0%",
          "0%",
          "0%",
          "0%",
          "-100%",
          "0%",
          "-100%",
          "0%",
          "-100%",
          "0%",
          "-100%",
          "0%",
          "0%",
          "0%",
          "0%",
          "0%",
          "0%",
          "0%",
          "0%",
          "0%",
          "∞",
          "0%",
          "0%",
          "0%",
          "0%",
          "0%",
          "0%",
          "0%",
          "0%",
          "0%",
          "0%",
          "-100%",
          "0%",
          "0%",
          "0%",
          "0%",
          "0%",
          "0%",
          "0%",
          "0%",
          "∞",
          " --",
          "0%",
          "0%",
          "0%",
          "0%",
          "0%"
         ],
         "xaxis": "x",
         "y": [
          "0%",
          "900%",
          "0%",
          "900%",
          "0%",
          "0%",
          "0%",
          "0%",
          "0%",
          "0%",
          "0%",
          "0%",
          "0%",
          "0%",
          "∞",
          "0%",
          "0%",
          "0%",
          "0%",
          "0%",
          "0%",
          "0%",
          "0%",
          "0%",
          "0%",
          "0%",
          "0%",
          "0%",
          "0%",
          "0%",
          "0%",
          "0%",
          "0%",
          "0%",
          "0%",
          "0%",
          "0%",
          "-100%",
          "0%",
          "0%",
          "0%",
          "0%",
          "0%",
          "0%",
          "0%",
          "0%",
          "0%",
          "0%",
          "0%",
          "0%",
          "0%",
          "0%",
          "0%",
          "∞",
          "0%",
          "0%",
          "0%",
          "0%",
          "0%",
          "-100%",
          "0%",
          "0%",
          "∞",
          "0%",
          "0%",
          "∞",
          "0%",
          "∞",
          "0%",
          "0%",
          "0%",
          "0%",
          "0%",
          "0%",
          "0%",
          "0%",
          "0%",
          "0%",
          "0%",
          "0%",
          "∞",
          "0%",
          "0%",
          "0%",
          "0%",
          "0%",
          "0%",
          "0%",
          "0%",
          "0%",
          "∞",
          "0%",
          "0%",
          "0%",
          "0%",
          "0%",
          "0%",
          "-100%",
          "0%",
          "0%",
          "∞",
          "-100%",
          "0%",
          "0%",
          "0%",
          "-100%",
          "0%",
          "-100%",
          "-100%",
          "0%",
          "0%",
          "0%",
          "0%",
          "0%",
          "0%",
          "0%",
          "-100%",
          "∞",
          "0%",
          "0%",
          "0%",
          "∞",
          "0%",
          "-100%",
          "0%",
          "0%",
          "0%",
          "0%",
          "0%",
          "0%",
          "∞",
          "-100%",
          "0%",
          "0%",
          "-100%",
          "0%",
          "0%",
          "0%",
          "0%",
          "0%",
          "0%",
          "0%",
          "0%",
          "0%",
          "0%",
          "0%",
          "0%",
          "0%",
          "0%",
          "0%",
          "-100%",
          "0%",
          "-90%",
          "0%",
          "0%",
          "∞",
          "0%",
          "-100%",
          "0%",
          "0%",
          "-100%",
          "0%",
          "0%",
          "0%",
          "0%",
          "0%",
          "0%",
          "0%",
          "0%",
          "0%",
          "0%",
          "0%",
          "0%",
          "∞",
          "0%",
          "0%",
          "0%",
          "0%",
          "0%",
          "0%",
          "0%",
          "-100%",
          "∞",
          "0%",
          "0%",
          "0%",
          "0%",
          "0%",
          "0%",
          "0%",
          "0%",
          "0%",
          "0%",
          "0%",
          "0%",
          "0%",
          "0%",
          "∞",
          "∞",
          "0%",
          "0%",
          "-100%",
          "0%",
          "0%",
          "0%",
          "0%",
          "0%",
          "-100%",
          "0%",
          "0%",
          "-100%",
          "-100%",
          "0%",
          "0%",
          "0%",
          "0%",
          "0%",
          "0%",
          "0%",
          "0%",
          "-100%",
          "0%",
          "0%",
          "-100%",
          "0%",
          "0%",
          "0%",
          "-100%",
          "0%",
          "-100%",
          "0%",
          "0%",
          "0%",
          "0%",
          "0%",
          "∞",
          "∞",
          "0%",
          "0%",
          "∞",
          "0%",
          "-100%",
          "0%",
          "0%",
          "∞",
          "0%",
          "∞",
          "-100%",
          "∞",
          "0%",
          "0%",
          "0%",
          "0%",
          "0%",
          "0%",
          "0%",
          "0%",
          "0%",
          "0%",
          "-100%",
          "0%",
          "0%",
          "0%",
          "0%",
          "0%",
          "0%",
          "0%",
          "0%",
          "0%",
          "0%",
          "0%",
          "0%",
          "0%",
          "0%",
          "-100%",
          "-100%",
          "0%",
          "0%",
          "-100%",
          "0%",
          "0%",
          "0%",
          "-100%",
          "0%",
          "0%",
          "0%",
          "0%",
          "0%",
          "0%",
          "900%",
          "900%",
          "0%",
          "0%",
          "0%",
          "0%",
          "0%",
          "-100%",
          "∞",
          "0%",
          "0%",
          "0%",
          "0%",
          "0%",
          "0%",
          "0%",
          "0%",
          "0%",
          "0%",
          "0%",
          "0%",
          "0%",
          "0%",
          "0%",
          "0%",
          "∞",
          "0%",
          "0%",
          "0%",
          "0%",
          "0%",
          "∞",
          "0%",
          "0%",
          "0%",
          "0%",
          "0%",
          "0%",
          "0%",
          "0%",
          "0%",
          "0%",
          "0%",
          "0%",
          "-100%",
          "∞",
          "0%",
          "0%",
          "0%",
          "0%",
          "0%",
          "0%",
          "-100%",
          "0%",
          "0%",
          "0%",
          "0%",
          "0%",
          "-100%",
          "0%",
          "-100%",
          "0%",
          "0%",
          "0%",
          "0%",
          "0%",
          "0%",
          "0%",
          "0%",
          "0%",
          "∞",
          "∞",
          "-100%",
          "-100%",
          "0%",
          "0%",
          "∞",
          "0%",
          "0%",
          "∞",
          "0%",
          "0%",
          "0%",
          "0%",
          "0%",
          "0%",
          "0%",
          "-100%",
          "0%",
          "0%",
          "0%",
          "-100%",
          "0%",
          "0%",
          "0%",
          "0%",
          "0%",
          "-100%",
          "-100%",
          "0%",
          "∞",
          "0%",
          "0%",
          "0%",
          "∞",
          "0%",
          "0%",
          "0%",
          "0%",
          "-100%",
          "0%",
          "0%",
          "0%",
          "0%",
          "0%",
          "-100%",
          "0%",
          "-100%",
          "0%",
          "0%",
          "0%",
          "0%",
          "-100%",
          "∞",
          "0%",
          "0%",
          "-90%",
          "0%",
          "∞",
          "-100%",
          "∞",
          "0%",
          "-100%",
          "0%",
          "0%",
          "0%",
          "0%",
          "0%",
          "-100%",
          "-100%",
          "-100%",
          "0%",
          "-100%",
          "0%",
          "-100%",
          "-100%",
          "0%",
          "∞",
          "0%",
          "0%",
          "0%",
          "-100%",
          "0%",
          "0%",
          "0%",
          "900%",
          "0%",
          "0%",
          "0%",
          "0%",
          "0%",
          "0%",
          "-100%",
          "-100%",
          "-100%",
          "0%",
          "0%",
          "0%",
          "-100%",
          "0%",
          "0%",
          "0%",
          "0%",
          " --",
          "0%",
          "∞",
          "0%",
          "0%",
          "0%"
         ],
         "yaxis": "y"
        }
       ],
       "layout": {
        "legend": {
         "tracegroupgap": 0
        },
        "template": {
         "data": {
          "bar": [
           {
            "error_x": {
             "color": "#2a3f5f"
            },
            "error_y": {
             "color": "#2a3f5f"
            },
            "marker": {
             "line": {
              "color": "#E5ECF6",
              "width": 0.5
             },
             "pattern": {
              "fillmode": "overlay",
              "size": 10,
              "solidity": 0.2
             }
            },
            "type": "bar"
           }
          ],
          "barpolar": [
           {
            "marker": {
             "line": {
              "color": "#E5ECF6",
              "width": 0.5
             },
             "pattern": {
              "fillmode": "overlay",
              "size": 10,
              "solidity": 0.2
             }
            },
            "type": "barpolar"
           }
          ],
          "carpet": [
           {
            "aaxis": {
             "endlinecolor": "#2a3f5f",
             "gridcolor": "white",
             "linecolor": "white",
             "minorgridcolor": "white",
             "startlinecolor": "#2a3f5f"
            },
            "baxis": {
             "endlinecolor": "#2a3f5f",
             "gridcolor": "white",
             "linecolor": "white",
             "minorgridcolor": "white",
             "startlinecolor": "#2a3f5f"
            },
            "type": "carpet"
           }
          ],
          "choropleth": [
           {
            "colorbar": {
             "outlinewidth": 0,
             "ticks": ""
            },
            "type": "choropleth"
           }
          ],
          "contour": [
           {
            "colorbar": {
             "outlinewidth": 0,
             "ticks": ""
            },
            "colorscale": [
             [
              0,
              "#0d0887"
             ],
             [
              0.1111111111111111,
              "#46039f"
             ],
             [
              0.2222222222222222,
              "#7201a8"
             ],
             [
              0.3333333333333333,
              "#9c179e"
             ],
             [
              0.4444444444444444,
              "#bd3786"
             ],
             [
              0.5555555555555556,
              "#d8576b"
             ],
             [
              0.6666666666666666,
              "#ed7953"
             ],
             [
              0.7777777777777778,
              "#fb9f3a"
             ],
             [
              0.8888888888888888,
              "#fdca26"
             ],
             [
              1,
              "#f0f921"
             ]
            ],
            "type": "contour"
           }
          ],
          "contourcarpet": [
           {
            "colorbar": {
             "outlinewidth": 0,
             "ticks": ""
            },
            "type": "contourcarpet"
           }
          ],
          "heatmap": [
           {
            "colorbar": {
             "outlinewidth": 0,
             "ticks": ""
            },
            "colorscale": [
             [
              0,
              "#0d0887"
             ],
             [
              0.1111111111111111,
              "#46039f"
             ],
             [
              0.2222222222222222,
              "#7201a8"
             ],
             [
              0.3333333333333333,
              "#9c179e"
             ],
             [
              0.4444444444444444,
              "#bd3786"
             ],
             [
              0.5555555555555556,
              "#d8576b"
             ],
             [
              0.6666666666666666,
              "#ed7953"
             ],
             [
              0.7777777777777778,
              "#fb9f3a"
             ],
             [
              0.8888888888888888,
              "#fdca26"
             ],
             [
              1,
              "#f0f921"
             ]
            ],
            "type": "heatmap"
           }
          ],
          "heatmapgl": [
           {
            "colorbar": {
             "outlinewidth": 0,
             "ticks": ""
            },
            "colorscale": [
             [
              0,
              "#0d0887"
             ],
             [
              0.1111111111111111,
              "#46039f"
             ],
             [
              0.2222222222222222,
              "#7201a8"
             ],
             [
              0.3333333333333333,
              "#9c179e"
             ],
             [
              0.4444444444444444,
              "#bd3786"
             ],
             [
              0.5555555555555556,
              "#d8576b"
             ],
             [
              0.6666666666666666,
              "#ed7953"
             ],
             [
              0.7777777777777778,
              "#fb9f3a"
             ],
             [
              0.8888888888888888,
              "#fdca26"
             ],
             [
              1,
              "#f0f921"
             ]
            ],
            "type": "heatmapgl"
           }
          ],
          "histogram": [
           {
            "marker": {
             "pattern": {
              "fillmode": "overlay",
              "size": 10,
              "solidity": 0.2
             }
            },
            "type": "histogram"
           }
          ],
          "histogram2d": [
           {
            "colorbar": {
             "outlinewidth": 0,
             "ticks": ""
            },
            "colorscale": [
             [
              0,
              "#0d0887"
             ],
             [
              0.1111111111111111,
              "#46039f"
             ],
             [
              0.2222222222222222,
              "#7201a8"
             ],
             [
              0.3333333333333333,
              "#9c179e"
             ],
             [
              0.4444444444444444,
              "#bd3786"
             ],
             [
              0.5555555555555556,
              "#d8576b"
             ],
             [
              0.6666666666666666,
              "#ed7953"
             ],
             [
              0.7777777777777778,
              "#fb9f3a"
             ],
             [
              0.8888888888888888,
              "#fdca26"
             ],
             [
              1,
              "#f0f921"
             ]
            ],
            "type": "histogram2d"
           }
          ],
          "histogram2dcontour": [
           {
            "colorbar": {
             "outlinewidth": 0,
             "ticks": ""
            },
            "colorscale": [
             [
              0,
              "#0d0887"
             ],
             [
              0.1111111111111111,
              "#46039f"
             ],
             [
              0.2222222222222222,
              "#7201a8"
             ],
             [
              0.3333333333333333,
              "#9c179e"
             ],
             [
              0.4444444444444444,
              "#bd3786"
             ],
             [
              0.5555555555555556,
              "#d8576b"
             ],
             [
              0.6666666666666666,
              "#ed7953"
             ],
             [
              0.7777777777777778,
              "#fb9f3a"
             ],
             [
              0.8888888888888888,
              "#fdca26"
             ],
             [
              1,
              "#f0f921"
             ]
            ],
            "type": "histogram2dcontour"
           }
          ],
          "mesh3d": [
           {
            "colorbar": {
             "outlinewidth": 0,
             "ticks": ""
            },
            "type": "mesh3d"
           }
          ],
          "parcoords": [
           {
            "line": {
             "colorbar": {
              "outlinewidth": 0,
              "ticks": ""
             }
            },
            "type": "parcoords"
           }
          ],
          "pie": [
           {
            "automargin": true,
            "type": "pie"
           }
          ],
          "scatter": [
           {
            "fillpattern": {
             "fillmode": "overlay",
             "size": 10,
             "solidity": 0.2
            },
            "type": "scatter"
           }
          ],
          "scatter3d": [
           {
            "line": {
             "colorbar": {
              "outlinewidth": 0,
              "ticks": ""
             }
            },
            "marker": {
             "colorbar": {
              "outlinewidth": 0,
              "ticks": ""
             }
            },
            "type": "scatter3d"
           }
          ],
          "scattercarpet": [
           {
            "marker": {
             "colorbar": {
              "outlinewidth": 0,
              "ticks": ""
             }
            },
            "type": "scattercarpet"
           }
          ],
          "scattergeo": [
           {
            "marker": {
             "colorbar": {
              "outlinewidth": 0,
              "ticks": ""
             }
            },
            "type": "scattergeo"
           }
          ],
          "scattergl": [
           {
            "marker": {
             "colorbar": {
              "outlinewidth": 0,
              "ticks": ""
             }
            },
            "type": "scattergl"
           }
          ],
          "scattermapbox": [
           {
            "marker": {
             "colorbar": {
              "outlinewidth": 0,
              "ticks": ""
             }
            },
            "type": "scattermapbox"
           }
          ],
          "scatterpolar": [
           {
            "marker": {
             "colorbar": {
              "outlinewidth": 0,
              "ticks": ""
             }
            },
            "type": "scatterpolar"
           }
          ],
          "scatterpolargl": [
           {
            "marker": {
             "colorbar": {
              "outlinewidth": 0,
              "ticks": ""
             }
            },
            "type": "scatterpolargl"
           }
          ],
          "scatterternary": [
           {
            "marker": {
             "colorbar": {
              "outlinewidth": 0,
              "ticks": ""
             }
            },
            "type": "scatterternary"
           }
          ],
          "surface": [
           {
            "colorbar": {
             "outlinewidth": 0,
             "ticks": ""
            },
            "colorscale": [
             [
              0,
              "#0d0887"
             ],
             [
              0.1111111111111111,
              "#46039f"
             ],
             [
              0.2222222222222222,
              "#7201a8"
             ],
             [
              0.3333333333333333,
              "#9c179e"
             ],
             [
              0.4444444444444444,
              "#bd3786"
             ],
             [
              0.5555555555555556,
              "#d8576b"
             ],
             [
              0.6666666666666666,
              "#ed7953"
             ],
             [
              0.7777777777777778,
              "#fb9f3a"
             ],
             [
              0.8888888888888888,
              "#fdca26"
             ],
             [
              1,
              "#f0f921"
             ]
            ],
            "type": "surface"
           }
          ],
          "table": [
           {
            "cells": {
             "fill": {
              "color": "#EBF0F8"
             },
             "line": {
              "color": "white"
             }
            },
            "header": {
             "fill": {
              "color": "#C8D4E3"
             },
             "line": {
              "color": "white"
             }
            },
            "type": "table"
           }
          ]
         },
         "layout": {
          "annotationdefaults": {
           "arrowcolor": "#2a3f5f",
           "arrowhead": 0,
           "arrowwidth": 1
          },
          "autotypenumbers": "strict",
          "coloraxis": {
           "colorbar": {
            "outlinewidth": 0,
            "ticks": ""
           }
          },
          "colorscale": {
           "diverging": [
            [
             0,
             "#8e0152"
            ],
            [
             0.1,
             "#c51b7d"
            ],
            [
             0.2,
             "#de77ae"
            ],
            [
             0.3,
             "#f1b6da"
            ],
            [
             0.4,
             "#fde0ef"
            ],
            [
             0.5,
             "#f7f7f7"
            ],
            [
             0.6,
             "#e6f5d0"
            ],
            [
             0.7,
             "#b8e186"
            ],
            [
             0.8,
             "#7fbc41"
            ],
            [
             0.9,
             "#4d9221"
            ],
            [
             1,
             "#276419"
            ]
           ],
           "sequential": [
            [
             0,
             "#0d0887"
            ],
            [
             0.1111111111111111,
             "#46039f"
            ],
            [
             0.2222222222222222,
             "#7201a8"
            ],
            [
             0.3333333333333333,
             "#9c179e"
            ],
            [
             0.4444444444444444,
             "#bd3786"
            ],
            [
             0.5555555555555556,
             "#d8576b"
            ],
            [
             0.6666666666666666,
             "#ed7953"
            ],
            [
             0.7777777777777778,
             "#fb9f3a"
            ],
            [
             0.8888888888888888,
             "#fdca26"
            ],
            [
             1,
             "#f0f921"
            ]
           ],
           "sequentialminus": [
            [
             0,
             "#0d0887"
            ],
            [
             0.1111111111111111,
             "#46039f"
            ],
            [
             0.2222222222222222,
             "#7201a8"
            ],
            [
             0.3333333333333333,
             "#9c179e"
            ],
            [
             0.4444444444444444,
             "#bd3786"
            ],
            [
             0.5555555555555556,
             "#d8576b"
            ],
            [
             0.6666666666666666,
             "#ed7953"
            ],
            [
             0.7777777777777778,
             "#fb9f3a"
            ],
            [
             0.8888888888888888,
             "#fdca26"
            ],
            [
             1,
             "#f0f921"
            ]
           ]
          },
          "colorway": [
           "#636efa",
           "#EF553B",
           "#00cc96",
           "#ab63fa",
           "#FFA15A",
           "#19d3f3",
           "#FF6692",
           "#B6E880",
           "#FF97FF",
           "#FECB52"
          ],
          "font": {
           "color": "#2a3f5f"
          },
          "geo": {
           "bgcolor": "white",
           "lakecolor": "white",
           "landcolor": "#E5ECF6",
           "showlakes": true,
           "showland": true,
           "subunitcolor": "white"
          },
          "hoverlabel": {
           "align": "left"
          },
          "hovermode": "closest",
          "mapbox": {
           "style": "light"
          },
          "paper_bgcolor": "white",
          "plot_bgcolor": "#E5ECF6",
          "polar": {
           "angularaxis": {
            "gridcolor": "white",
            "linecolor": "white",
            "ticks": ""
           },
           "bgcolor": "#E5ECF6",
           "radialaxis": {
            "gridcolor": "white",
            "linecolor": "white",
            "ticks": ""
           }
          },
          "scene": {
           "xaxis": {
            "backgroundcolor": "#E5ECF6",
            "gridcolor": "white",
            "gridwidth": 2,
            "linecolor": "white",
            "showbackground": true,
            "ticks": "",
            "zerolinecolor": "white"
           },
           "yaxis": {
            "backgroundcolor": "#E5ECF6",
            "gridcolor": "white",
            "gridwidth": 2,
            "linecolor": "white",
            "showbackground": true,
            "ticks": "",
            "zerolinecolor": "white"
           },
           "zaxis": {
            "backgroundcolor": "#E5ECF6",
            "gridcolor": "white",
            "gridwidth": 2,
            "linecolor": "white",
            "showbackground": true,
            "ticks": "",
            "zerolinecolor": "white"
           }
          },
          "shapedefaults": {
           "line": {
            "color": "#2a3f5f"
           }
          },
          "ternary": {
           "aaxis": {
            "gridcolor": "white",
            "linecolor": "white",
            "ticks": ""
           },
           "baxis": {
            "gridcolor": "white",
            "linecolor": "white",
            "ticks": ""
           },
           "bgcolor": "#E5ECF6",
           "caxis": {
            "gridcolor": "white",
            "linecolor": "white",
            "ticks": ""
           }
          },
          "title": {
           "x": 0.05
          },
          "xaxis": {
           "automargin": true,
           "gridcolor": "white",
           "linecolor": "white",
           "ticks": "",
           "title": {
            "standoff": 15
           },
           "zerolinecolor": "white",
           "zerolinewidth": 2
          },
          "yaxis": {
           "automargin": true,
           "gridcolor": "white",
           "linecolor": "white",
           "ticks": "",
           "title": {
            "standoff": 15
           },
           "zerolinecolor": "white",
           "zerolinewidth": 2
          }
         }
        },
        "title": {
         "text": "Three Month Change vs. YoY Change"
        },
        "xaxis": {
         "anchor": "y",
         "domain": [
          0,
          1
         ],
         "title": {
          "text": "3-Month Change (%)"
         }
        },
        "yaxis": {
         "anchor": "x",
         "domain": [
          0,
          1
         ],
         "title": {
          "text": "Year-over-Year Change (%)"
         }
        }
       }
      }
     },
     "metadata": {},
     "output_type": "display_data"
    }
   ],
   "source": [
    "# Create a scatter plot to visualize Three month change vs. YoY change\n",
    "fig = px.scatter(df, x='Three month change', y='YoY change',\n",
    "                 title='Three Month Change vs. YoY Change',\n",
    "                 labels={'Three month change': '3-Month Change (%)', 'YoY change': 'Year-over-Year Change (%)'},\n",
    "                 hover_name='Keyword')\n",
    "\n",
    "fig.show()\n"
   ]
  },
  {
   "cell_type": "code",
   "execution_count": 27,
   "metadata": {},
   "outputs": [
    {
     "data": {
      "application/vnd.plotly.v1+json": {
       "config": {
        "plotlyServerURL": "https://plot.ly"
       },
       "data": [
        {
         "alignmentgroup": "True",
         "bingroup": "x",
         "hovertemplate": "Competition Level=%{x}<br>count=%{y}<extra></extra>",
         "legendgroup": "",
         "marker": {
          "color": "#636EFA",
          "pattern": {
           "shape": ""
          }
         },
         "name": "",
         "nbinsx": 10,
         "offsetgroup": "",
         "orientation": "v",
         "showlegend": false,
         "type": "histogram",
         "x": [
          "Low",
          "Low",
          "Low",
          "Low",
          "Low",
          "Low",
          "Low",
          "Low",
          "Low",
          "Low",
          "Low",
          "Low",
          "Low",
          "Low",
          "Medium",
          "Low",
          "Low",
          "Low",
          "Low",
          "Low",
          "Low",
          "Low",
          "Low",
          "Low",
          "Low",
          "Low",
          "Low",
          "Low",
          "Low",
          "Low",
          "Low",
          "Low",
          "Low",
          "Low",
          "Low",
          "Low",
          "Low",
          "Unknown",
          "Low",
          "Low",
          "Low",
          "Low",
          "Low",
          "Low",
          "Low",
          "Low",
          "Low",
          "Medium",
          "Low",
          "Medium",
          "Medium",
          "Low",
          "Low",
          "Low",
          "Medium",
          "Low",
          "Low",
          "Low",
          "Low",
          "Unknown",
          "Low",
          "Low",
          "Low",
          "Low",
          "Low",
          "Low",
          "Unknown",
          "Low",
          "Low",
          "Low",
          "Low",
          "Low",
          "Low",
          "Unknown",
          "Low",
          "Low",
          "Low",
          "Low",
          "Medium",
          "Low",
          "Low",
          "Low",
          "Low",
          "High",
          "Low",
          "Low",
          "Unknown",
          "Low",
          "Medium",
          "Low",
          "Low",
          "Low",
          "Low",
          "Low",
          "Low",
          "Low",
          "Low",
          "Unknown",
          "Unknown",
          "Low",
          "Medium",
          "Unknown",
          "Low",
          "Low",
          "Low",
          "Unknown",
          "Low",
          "Unknown",
          "Unknown",
          "Unknown",
          "Low",
          "Low",
          "Low",
          "Low",
          "Medium",
          "Low",
          "Unknown",
          "Low",
          "Low",
          "Low",
          "Medium",
          "Low",
          "Low",
          "Unknown",
          "Low",
          "Low",
          "Low",
          "Low",
          "Low",
          "Low",
          "Low",
          "Unknown",
          "Medium",
          "Low",
          "Unknown",
          "Low",
          "Low",
          "Low",
          "Low",
          "Low",
          "Low",
          "Unknown",
          "Low",
          "Low",
          "Low",
          "Medium",
          "Low",
          "Low",
          "Low",
          "Low",
          "Unknown",
          "Low",
          "Low",
          "Low",
          "Low",
          "Low",
          "Low",
          "Unknown",
          "Low",
          "Low",
          "Unknown",
          "Low",
          "Low",
          "Low",
          "Low",
          "Unknown",
          "Low",
          "Low",
          "Low",
          "Low",
          "Low",
          "Low",
          "Low",
          "Low",
          "Low",
          "Unknown",
          "Low",
          "Low",
          "Low",
          "Low",
          "Low",
          "Unknown",
          "Low",
          "Low",
          "Low",
          "Low",
          "Low",
          "Low",
          "Unknown",
          "Low",
          "Unknown",
          "Low",
          "Low",
          "Low",
          "Unknown",
          "Unknown",
          "Unknown",
          "Low",
          "Low",
          "Low",
          "Unknown",
          "Unknown",
          "Unknown",
          "Unknown",
          "Unknown",
          "Low",
          "Low",
          "Unknown",
          "Low",
          "Low",
          "Unknown",
          "Unknown",
          "Low",
          "Unknown",
          "Unknown",
          "Low",
          "Unknown",
          "Unknown",
          "Unknown",
          "Unknown",
          "Unknown",
          "Unknown",
          "Low",
          "Unknown",
          "Unknown",
          "Low",
          "Unknown",
          "Unknown",
          "Low",
          "Unknown",
          "Unknown",
          "Unknown",
          "Low",
          "Low",
          "Low",
          "Low",
          "High",
          "Low",
          "Low",
          "Low",
          "Unknown",
          "Unknown",
          "Unknown",
          "Low",
          "Low",
          "Unknown",
          "Low",
          "Unknown",
          "Low",
          "Low",
          "Unknown",
          "Unknown",
          "Low",
          "Low",
          "Low",
          "Low",
          "Low",
          "Unknown",
          "Unknown",
          "Unknown",
          "Low",
          "Low",
          "Unknown",
          "Low",
          "Unknown",
          "Low",
          "Low",
          "Low",
          "Low",
          "Unknown",
          "Low",
          "Unknown",
          "Low",
          "Unknown",
          "Unknown",
          "Unknown",
          "Unknown",
          "Low",
          "Unknown",
          "Low",
          "Low",
          "Low",
          "Unknown",
          "Low",
          "Low",
          "Low",
          "Low",
          "Unknown",
          "Unknown",
          "Low",
          "Low",
          "Unknown",
          "Unknown",
          "Low",
          "Low",
          "Low",
          "Unknown",
          "Low",
          "Unknown",
          "Unknown",
          "Low",
          "Low",
          "Low",
          "Unknown",
          "Unknown",
          "Low",
          "Unknown",
          "Low",
          "Low",
          "Low",
          "Low",
          "Unknown",
          "Low",
          "Unknown",
          "Low",
          "Low",
          "Low",
          "Unknown",
          "Unknown",
          "Low",
          "Low",
          "Unknown",
          "Unknown",
          "Low",
          "Low",
          "Low",
          "Unknown",
          "Low",
          "Low",
          "Low",
          "Low",
          "Unknown",
          "Unknown",
          "Unknown",
          "Low",
          "Low",
          "Unknown",
          "Low",
          "Low",
          "Low",
          "Unknown",
          "Unknown",
          "Low",
          "Unknown",
          "Unknown",
          "Unknown",
          "Low",
          "Unknown",
          "Low",
          "Unknown",
          "Unknown",
          "Low",
          "Unknown",
          "High",
          "Low",
          "Low",
          "Low",
          "Low",
          "Low",
          "Low",
          "Low",
          "Unknown",
          "Unknown",
          "Unknown",
          "Low",
          "Low",
          "Unknown",
          "Low",
          "Low",
          "Unknown",
          "Low",
          "Low",
          "Unknown",
          "Low",
          "Low",
          "Unknown",
          "Unknown",
          "Low",
          "Low",
          "Unknown",
          "Unknown",
          "Low",
          "Low",
          "Unknown",
          "Medium",
          "Unknown",
          "Unknown",
          "Unknown",
          "Low",
          "Low",
          "Low",
          "Low",
          "Unknown",
          "Low",
          "Unknown",
          "Unknown",
          "Low",
          "Low",
          "Unknown",
          "Low",
          "Low",
          "Unknown",
          "Low",
          "Unknown",
          "Unknown",
          "Low",
          "Unknown",
          "Low",
          "Low",
          "Unknown",
          "Low",
          "Unknown",
          "Low",
          "Unknown",
          "Unknown",
          "Low",
          "Low",
          "Low",
          "Unknown",
          "Low",
          "Low",
          "Unknown",
          "Low",
          "Low",
          "Unknown",
          "Unknown",
          "Low",
          "Unknown",
          "Unknown",
          "Unknown",
          "Low",
          "Unknown",
          "Low",
          "Unknown",
          "Unknown",
          "Low",
          "Low",
          "Low",
          "Unknown",
          "Medium",
          "Unknown",
          "Low",
          "Low",
          "Low",
          "Low",
          "Low",
          "Low",
          "Low",
          "Low",
          "Low",
          "Low",
          "Unknown",
          "Unknown",
          "Unknown",
          "Unknown",
          "Low",
          "Low",
          "Unknown",
          "Low",
          "Unknown",
          "Unknown",
          "Low",
          "Unknown",
          "Low",
          "Low",
          "Unknown",
          "Low",
          "Low"
         ],
         "xaxis": "x",
         "yaxis": "y"
        }
       ],
       "layout": {
        "barmode": "relative",
        "legend": {
         "tracegroupgap": 0
        },
        "template": {
         "data": {
          "bar": [
           {
            "error_x": {
             "color": "#2a3f5f"
            },
            "error_y": {
             "color": "#2a3f5f"
            },
            "marker": {
             "line": {
              "color": "#E5ECF6",
              "width": 0.5
             },
             "pattern": {
              "fillmode": "overlay",
              "size": 10,
              "solidity": 0.2
             }
            },
            "type": "bar"
           }
          ],
          "barpolar": [
           {
            "marker": {
             "line": {
              "color": "#E5ECF6",
              "width": 0.5
             },
             "pattern": {
              "fillmode": "overlay",
              "size": 10,
              "solidity": 0.2
             }
            },
            "type": "barpolar"
           }
          ],
          "carpet": [
           {
            "aaxis": {
             "endlinecolor": "#2a3f5f",
             "gridcolor": "white",
             "linecolor": "white",
             "minorgridcolor": "white",
             "startlinecolor": "#2a3f5f"
            },
            "baxis": {
             "endlinecolor": "#2a3f5f",
             "gridcolor": "white",
             "linecolor": "white",
             "minorgridcolor": "white",
             "startlinecolor": "#2a3f5f"
            },
            "type": "carpet"
           }
          ],
          "choropleth": [
           {
            "colorbar": {
             "outlinewidth": 0,
             "ticks": ""
            },
            "type": "choropleth"
           }
          ],
          "contour": [
           {
            "colorbar": {
             "outlinewidth": 0,
             "ticks": ""
            },
            "colorscale": [
             [
              0,
              "#0d0887"
             ],
             [
              0.1111111111111111,
              "#46039f"
             ],
             [
              0.2222222222222222,
              "#7201a8"
             ],
             [
              0.3333333333333333,
              "#9c179e"
             ],
             [
              0.4444444444444444,
              "#bd3786"
             ],
             [
              0.5555555555555556,
              "#d8576b"
             ],
             [
              0.6666666666666666,
              "#ed7953"
             ],
             [
              0.7777777777777778,
              "#fb9f3a"
             ],
             [
              0.8888888888888888,
              "#fdca26"
             ],
             [
              1,
              "#f0f921"
             ]
            ],
            "type": "contour"
           }
          ],
          "contourcarpet": [
           {
            "colorbar": {
             "outlinewidth": 0,
             "ticks": ""
            },
            "type": "contourcarpet"
           }
          ],
          "heatmap": [
           {
            "colorbar": {
             "outlinewidth": 0,
             "ticks": ""
            },
            "colorscale": [
             [
              0,
              "#0d0887"
             ],
             [
              0.1111111111111111,
              "#46039f"
             ],
             [
              0.2222222222222222,
              "#7201a8"
             ],
             [
              0.3333333333333333,
              "#9c179e"
             ],
             [
              0.4444444444444444,
              "#bd3786"
             ],
             [
              0.5555555555555556,
              "#d8576b"
             ],
             [
              0.6666666666666666,
              "#ed7953"
             ],
             [
              0.7777777777777778,
              "#fb9f3a"
             ],
             [
              0.8888888888888888,
              "#fdca26"
             ],
             [
              1,
              "#f0f921"
             ]
            ],
            "type": "heatmap"
           }
          ],
          "heatmapgl": [
           {
            "colorbar": {
             "outlinewidth": 0,
             "ticks": ""
            },
            "colorscale": [
             [
              0,
              "#0d0887"
             ],
             [
              0.1111111111111111,
              "#46039f"
             ],
             [
              0.2222222222222222,
              "#7201a8"
             ],
             [
              0.3333333333333333,
              "#9c179e"
             ],
             [
              0.4444444444444444,
              "#bd3786"
             ],
             [
              0.5555555555555556,
              "#d8576b"
             ],
             [
              0.6666666666666666,
              "#ed7953"
             ],
             [
              0.7777777777777778,
              "#fb9f3a"
             ],
             [
              0.8888888888888888,
              "#fdca26"
             ],
             [
              1,
              "#f0f921"
             ]
            ],
            "type": "heatmapgl"
           }
          ],
          "histogram": [
           {
            "marker": {
             "pattern": {
              "fillmode": "overlay",
              "size": 10,
              "solidity": 0.2
             }
            },
            "type": "histogram"
           }
          ],
          "histogram2d": [
           {
            "colorbar": {
             "outlinewidth": 0,
             "ticks": ""
            },
            "colorscale": [
             [
              0,
              "#0d0887"
             ],
             [
              0.1111111111111111,
              "#46039f"
             ],
             [
              0.2222222222222222,
              "#7201a8"
             ],
             [
              0.3333333333333333,
              "#9c179e"
             ],
             [
              0.4444444444444444,
              "#bd3786"
             ],
             [
              0.5555555555555556,
              "#d8576b"
             ],
             [
              0.6666666666666666,
              "#ed7953"
             ],
             [
              0.7777777777777778,
              "#fb9f3a"
             ],
             [
              0.8888888888888888,
              "#fdca26"
             ],
             [
              1,
              "#f0f921"
             ]
            ],
            "type": "histogram2d"
           }
          ],
          "histogram2dcontour": [
           {
            "colorbar": {
             "outlinewidth": 0,
             "ticks": ""
            },
            "colorscale": [
             [
              0,
              "#0d0887"
             ],
             [
              0.1111111111111111,
              "#46039f"
             ],
             [
              0.2222222222222222,
              "#7201a8"
             ],
             [
              0.3333333333333333,
              "#9c179e"
             ],
             [
              0.4444444444444444,
              "#bd3786"
             ],
             [
              0.5555555555555556,
              "#d8576b"
             ],
             [
              0.6666666666666666,
              "#ed7953"
             ],
             [
              0.7777777777777778,
              "#fb9f3a"
             ],
             [
              0.8888888888888888,
              "#fdca26"
             ],
             [
              1,
              "#f0f921"
             ]
            ],
            "type": "histogram2dcontour"
           }
          ],
          "mesh3d": [
           {
            "colorbar": {
             "outlinewidth": 0,
             "ticks": ""
            },
            "type": "mesh3d"
           }
          ],
          "parcoords": [
           {
            "line": {
             "colorbar": {
              "outlinewidth": 0,
              "ticks": ""
             }
            },
            "type": "parcoords"
           }
          ],
          "pie": [
           {
            "automargin": true,
            "type": "pie"
           }
          ],
          "scatter": [
           {
            "fillpattern": {
             "fillmode": "overlay",
             "size": 10,
             "solidity": 0.2
            },
            "type": "scatter"
           }
          ],
          "scatter3d": [
           {
            "line": {
             "colorbar": {
              "outlinewidth": 0,
              "ticks": ""
             }
            },
            "marker": {
             "colorbar": {
              "outlinewidth": 0,
              "ticks": ""
             }
            },
            "type": "scatter3d"
           }
          ],
          "scattercarpet": [
           {
            "marker": {
             "colorbar": {
              "outlinewidth": 0,
              "ticks": ""
             }
            },
            "type": "scattercarpet"
           }
          ],
          "scattergeo": [
           {
            "marker": {
             "colorbar": {
              "outlinewidth": 0,
              "ticks": ""
             }
            },
            "type": "scattergeo"
           }
          ],
          "scattergl": [
           {
            "marker": {
             "colorbar": {
              "outlinewidth": 0,
              "ticks": ""
             }
            },
            "type": "scattergl"
           }
          ],
          "scattermapbox": [
           {
            "marker": {
             "colorbar": {
              "outlinewidth": 0,
              "ticks": ""
             }
            },
            "type": "scattermapbox"
           }
          ],
          "scatterpolar": [
           {
            "marker": {
             "colorbar": {
              "outlinewidth": 0,
              "ticks": ""
             }
            },
            "type": "scatterpolar"
           }
          ],
          "scatterpolargl": [
           {
            "marker": {
             "colorbar": {
              "outlinewidth": 0,
              "ticks": ""
             }
            },
            "type": "scatterpolargl"
           }
          ],
          "scatterternary": [
           {
            "marker": {
             "colorbar": {
              "outlinewidth": 0,
              "ticks": ""
             }
            },
            "type": "scatterternary"
           }
          ],
          "surface": [
           {
            "colorbar": {
             "outlinewidth": 0,
             "ticks": ""
            },
            "colorscale": [
             [
              0,
              "#0d0887"
             ],
             [
              0.1111111111111111,
              "#46039f"
             ],
             [
              0.2222222222222222,
              "#7201a8"
             ],
             [
              0.3333333333333333,
              "#9c179e"
             ],
             [
              0.4444444444444444,
              "#bd3786"
             ],
             [
              0.5555555555555556,
              "#d8576b"
             ],
             [
              0.6666666666666666,
              "#ed7953"
             ],
             [
              0.7777777777777778,
              "#fb9f3a"
             ],
             [
              0.8888888888888888,
              "#fdca26"
             ],
             [
              1,
              "#f0f921"
             ]
            ],
            "type": "surface"
           }
          ],
          "table": [
           {
            "cells": {
             "fill": {
              "color": "#EBF0F8"
             },
             "line": {
              "color": "white"
             }
            },
            "header": {
             "fill": {
              "color": "#C8D4E3"
             },
             "line": {
              "color": "white"
             }
            },
            "type": "table"
           }
          ]
         },
         "layout": {
          "annotationdefaults": {
           "arrowcolor": "#2a3f5f",
           "arrowhead": 0,
           "arrowwidth": 1
          },
          "autotypenumbers": "strict",
          "coloraxis": {
           "colorbar": {
            "outlinewidth": 0,
            "ticks": ""
           }
          },
          "colorscale": {
           "diverging": [
            [
             0,
             "#8e0152"
            ],
            [
             0.1,
             "#c51b7d"
            ],
            [
             0.2,
             "#de77ae"
            ],
            [
             0.3,
             "#f1b6da"
            ],
            [
             0.4,
             "#fde0ef"
            ],
            [
             0.5,
             "#f7f7f7"
            ],
            [
             0.6,
             "#e6f5d0"
            ],
            [
             0.7,
             "#b8e186"
            ],
            [
             0.8,
             "#7fbc41"
            ],
            [
             0.9,
             "#4d9221"
            ],
            [
             1,
             "#276419"
            ]
           ],
           "sequential": [
            [
             0,
             "#0d0887"
            ],
            [
             0.1111111111111111,
             "#46039f"
            ],
            [
             0.2222222222222222,
             "#7201a8"
            ],
            [
             0.3333333333333333,
             "#9c179e"
            ],
            [
             0.4444444444444444,
             "#bd3786"
            ],
            [
             0.5555555555555556,
             "#d8576b"
            ],
            [
             0.6666666666666666,
             "#ed7953"
            ],
            [
             0.7777777777777778,
             "#fb9f3a"
            ],
            [
             0.8888888888888888,
             "#fdca26"
            ],
            [
             1,
             "#f0f921"
            ]
           ],
           "sequentialminus": [
            [
             0,
             "#0d0887"
            ],
            [
             0.1111111111111111,
             "#46039f"
            ],
            [
             0.2222222222222222,
             "#7201a8"
            ],
            [
             0.3333333333333333,
             "#9c179e"
            ],
            [
             0.4444444444444444,
             "#bd3786"
            ],
            [
             0.5555555555555556,
             "#d8576b"
            ],
            [
             0.6666666666666666,
             "#ed7953"
            ],
            [
             0.7777777777777778,
             "#fb9f3a"
            ],
            [
             0.8888888888888888,
             "#fdca26"
            ],
            [
             1,
             "#f0f921"
            ]
           ]
          },
          "colorway": [
           "#636efa",
           "#EF553B",
           "#00cc96",
           "#ab63fa",
           "#FFA15A",
           "#19d3f3",
           "#FF6692",
           "#B6E880",
           "#FF97FF",
           "#FECB52"
          ],
          "font": {
           "color": "#2a3f5f"
          },
          "geo": {
           "bgcolor": "white",
           "lakecolor": "white",
           "landcolor": "#E5ECF6",
           "showlakes": true,
           "showland": true,
           "subunitcolor": "white"
          },
          "hoverlabel": {
           "align": "left"
          },
          "hovermode": "closest",
          "mapbox": {
           "style": "light"
          },
          "paper_bgcolor": "white",
          "plot_bgcolor": "#E5ECF6",
          "polar": {
           "angularaxis": {
            "gridcolor": "white",
            "linecolor": "white",
            "ticks": ""
           },
           "bgcolor": "#E5ECF6",
           "radialaxis": {
            "gridcolor": "white",
            "linecolor": "white",
            "ticks": ""
           }
          },
          "scene": {
           "xaxis": {
            "backgroundcolor": "#E5ECF6",
            "gridcolor": "white",
            "gridwidth": 2,
            "linecolor": "white",
            "showbackground": true,
            "ticks": "",
            "zerolinecolor": "white"
           },
           "yaxis": {
            "backgroundcolor": "#E5ECF6",
            "gridcolor": "white",
            "gridwidth": 2,
            "linecolor": "white",
            "showbackground": true,
            "ticks": "",
            "zerolinecolor": "white"
           },
           "zaxis": {
            "backgroundcolor": "#E5ECF6",
            "gridcolor": "white",
            "gridwidth": 2,
            "linecolor": "white",
            "showbackground": true,
            "ticks": "",
            "zerolinecolor": "white"
           }
          },
          "shapedefaults": {
           "line": {
            "color": "#2a3f5f"
           }
          },
          "ternary": {
           "aaxis": {
            "gridcolor": "white",
            "linecolor": "white",
            "ticks": ""
           },
           "baxis": {
            "gridcolor": "white",
            "linecolor": "white",
            "ticks": ""
           },
           "bgcolor": "#E5ECF6",
           "caxis": {
            "gridcolor": "white",
            "linecolor": "white",
            "ticks": ""
           }
          },
          "title": {
           "x": 0.05
          },
          "xaxis": {
           "automargin": true,
           "gridcolor": "white",
           "linecolor": "white",
           "ticks": "",
           "title": {
            "standoff": 15
           },
           "zerolinecolor": "white",
           "zerolinewidth": 2
          },
          "yaxis": {
           "automargin": true,
           "gridcolor": "white",
           "linecolor": "white",
           "ticks": "",
           "title": {
            "standoff": 15
           },
           "zerolinecolor": "white",
           "zerolinewidth": 2
          }
         }
        },
        "title": {
         "text": "Distribution of Competition Levels"
        },
        "xaxis": {
         "anchor": "y",
         "domain": [
          0,
          1
         ],
         "title": {
          "text": "Competition Level"
         }
        },
        "yaxis": {
         "anchor": "x",
         "domain": [
          0,
          1
         ],
         "title": {
          "text": "count"
         }
        }
       }
      }
     },
     "metadata": {},
     "output_type": "display_data"
    }
   ],
   "source": [
    "# Show the distribution of competition levels to understand the competitiveness of keywords.\n",
    "fig = px.histogram(df, x='Competition', nbins=10,\n",
    "                   title='Distribution of Competition Levels',\n",
    "                   labels={'Competition': 'Competition Level'},\n",
    "                   color_discrete_sequence=['#636EFA'])\n",
    "\n",
    "fig.show()\n"
   ]
  },
  {
   "cell_type": "code",
   "execution_count": 28,
   "metadata": {},
   "outputs": [
    {
     "data": {
      "application/vnd.plotly.v1+json": {
       "config": {
        "plotlyServerURL": "https://plot.ly"
       },
       "data": [
        {
         "alignmentgroup": "True",
         "hovertemplate": "Keyword=%{x}<br>Top of Page Bid (High Range)=%{marker.color}<extra></extra>",
         "legendgroup": "",
         "marker": {
          "color": [
           1199.42,
           689.69,
           600.55,
           583.39,
           432.73,
           415.99,
           323.92,
           302.99,
           256.96,
           239.72
          ],
          "coloraxis": "coloraxis",
          "pattern": {
           "shape": ""
          }
         },
         "name": "",
         "offsetgroup": "",
         "orientation": "v",
         "showlegend": false,
         "textposition": "auto",
         "type": "bar",
         "x": [
          "it risk consultant",
          "wipro it consulting",
          "simplified it consulting",
          "it solution consulting",
          "it consulting services companies",
          "it consulting solution",
          "non profit it consulting",
          "a2c it consulting",
          "e and e it consulting",
          "ey it consulting"
         ],
         "xaxis": "x",
         "y": [
          1199.42,
          689.69,
          600.55,
          583.39,
          432.73,
          415.99,
          323.92,
          302.99,
          256.96,
          239.72
         ],
         "yaxis": "y"
        }
       ],
       "layout": {
        "barmode": "relative",
        "coloraxis": {
         "colorbar": {
          "title": {
           "text": "Top of Page Bid (High Range)"
          }
         },
         "colorscale": [
          [
           0,
           "#0d0887"
          ],
          [
           0.1111111111111111,
           "#46039f"
          ],
          [
           0.2222222222222222,
           "#7201a8"
          ],
          [
           0.3333333333333333,
           "#9c179e"
          ],
          [
           0.4444444444444444,
           "#bd3786"
          ],
          [
           0.5555555555555556,
           "#d8576b"
          ],
          [
           0.6666666666666666,
           "#ed7953"
          ],
          [
           0.7777777777777778,
           "#fb9f3a"
          ],
          [
           0.8888888888888888,
           "#fdca26"
          ],
          [
           1,
           "#f0f921"
          ]
         ]
        },
        "legend": {
         "tracegroupgap": 0
        },
        "template": {
         "data": {
          "bar": [
           {
            "error_x": {
             "color": "#2a3f5f"
            },
            "error_y": {
             "color": "#2a3f5f"
            },
            "marker": {
             "line": {
              "color": "#E5ECF6",
              "width": 0.5
             },
             "pattern": {
              "fillmode": "overlay",
              "size": 10,
              "solidity": 0.2
             }
            },
            "type": "bar"
           }
          ],
          "barpolar": [
           {
            "marker": {
             "line": {
              "color": "#E5ECF6",
              "width": 0.5
             },
             "pattern": {
              "fillmode": "overlay",
              "size": 10,
              "solidity": 0.2
             }
            },
            "type": "barpolar"
           }
          ],
          "carpet": [
           {
            "aaxis": {
             "endlinecolor": "#2a3f5f",
             "gridcolor": "white",
             "linecolor": "white",
             "minorgridcolor": "white",
             "startlinecolor": "#2a3f5f"
            },
            "baxis": {
             "endlinecolor": "#2a3f5f",
             "gridcolor": "white",
             "linecolor": "white",
             "minorgridcolor": "white",
             "startlinecolor": "#2a3f5f"
            },
            "type": "carpet"
           }
          ],
          "choropleth": [
           {
            "colorbar": {
             "outlinewidth": 0,
             "ticks": ""
            },
            "type": "choropleth"
           }
          ],
          "contour": [
           {
            "colorbar": {
             "outlinewidth": 0,
             "ticks": ""
            },
            "colorscale": [
             [
              0,
              "#0d0887"
             ],
             [
              0.1111111111111111,
              "#46039f"
             ],
             [
              0.2222222222222222,
              "#7201a8"
             ],
             [
              0.3333333333333333,
              "#9c179e"
             ],
             [
              0.4444444444444444,
              "#bd3786"
             ],
             [
              0.5555555555555556,
              "#d8576b"
             ],
             [
              0.6666666666666666,
              "#ed7953"
             ],
             [
              0.7777777777777778,
              "#fb9f3a"
             ],
             [
              0.8888888888888888,
              "#fdca26"
             ],
             [
              1,
              "#f0f921"
             ]
            ],
            "type": "contour"
           }
          ],
          "contourcarpet": [
           {
            "colorbar": {
             "outlinewidth": 0,
             "ticks": ""
            },
            "type": "contourcarpet"
           }
          ],
          "heatmap": [
           {
            "colorbar": {
             "outlinewidth": 0,
             "ticks": ""
            },
            "colorscale": [
             [
              0,
              "#0d0887"
             ],
             [
              0.1111111111111111,
              "#46039f"
             ],
             [
              0.2222222222222222,
              "#7201a8"
             ],
             [
              0.3333333333333333,
              "#9c179e"
             ],
             [
              0.4444444444444444,
              "#bd3786"
             ],
             [
              0.5555555555555556,
              "#d8576b"
             ],
             [
              0.6666666666666666,
              "#ed7953"
             ],
             [
              0.7777777777777778,
              "#fb9f3a"
             ],
             [
              0.8888888888888888,
              "#fdca26"
             ],
             [
              1,
              "#f0f921"
             ]
            ],
            "type": "heatmap"
           }
          ],
          "heatmapgl": [
           {
            "colorbar": {
             "outlinewidth": 0,
             "ticks": ""
            },
            "colorscale": [
             [
              0,
              "#0d0887"
             ],
             [
              0.1111111111111111,
              "#46039f"
             ],
             [
              0.2222222222222222,
              "#7201a8"
             ],
             [
              0.3333333333333333,
              "#9c179e"
             ],
             [
              0.4444444444444444,
              "#bd3786"
             ],
             [
              0.5555555555555556,
              "#d8576b"
             ],
             [
              0.6666666666666666,
              "#ed7953"
             ],
             [
              0.7777777777777778,
              "#fb9f3a"
             ],
             [
              0.8888888888888888,
              "#fdca26"
             ],
             [
              1,
              "#f0f921"
             ]
            ],
            "type": "heatmapgl"
           }
          ],
          "histogram": [
           {
            "marker": {
             "pattern": {
              "fillmode": "overlay",
              "size": 10,
              "solidity": 0.2
             }
            },
            "type": "histogram"
           }
          ],
          "histogram2d": [
           {
            "colorbar": {
             "outlinewidth": 0,
             "ticks": ""
            },
            "colorscale": [
             [
              0,
              "#0d0887"
             ],
             [
              0.1111111111111111,
              "#46039f"
             ],
             [
              0.2222222222222222,
              "#7201a8"
             ],
             [
              0.3333333333333333,
              "#9c179e"
             ],
             [
              0.4444444444444444,
              "#bd3786"
             ],
             [
              0.5555555555555556,
              "#d8576b"
             ],
             [
              0.6666666666666666,
              "#ed7953"
             ],
             [
              0.7777777777777778,
              "#fb9f3a"
             ],
             [
              0.8888888888888888,
              "#fdca26"
             ],
             [
              1,
              "#f0f921"
             ]
            ],
            "type": "histogram2d"
           }
          ],
          "histogram2dcontour": [
           {
            "colorbar": {
             "outlinewidth": 0,
             "ticks": ""
            },
            "colorscale": [
             [
              0,
              "#0d0887"
             ],
             [
              0.1111111111111111,
              "#46039f"
             ],
             [
              0.2222222222222222,
              "#7201a8"
             ],
             [
              0.3333333333333333,
              "#9c179e"
             ],
             [
              0.4444444444444444,
              "#bd3786"
             ],
             [
              0.5555555555555556,
              "#d8576b"
             ],
             [
              0.6666666666666666,
              "#ed7953"
             ],
             [
              0.7777777777777778,
              "#fb9f3a"
             ],
             [
              0.8888888888888888,
              "#fdca26"
             ],
             [
              1,
              "#f0f921"
             ]
            ],
            "type": "histogram2dcontour"
           }
          ],
          "mesh3d": [
           {
            "colorbar": {
             "outlinewidth": 0,
             "ticks": ""
            },
            "type": "mesh3d"
           }
          ],
          "parcoords": [
           {
            "line": {
             "colorbar": {
              "outlinewidth": 0,
              "ticks": ""
             }
            },
            "type": "parcoords"
           }
          ],
          "pie": [
           {
            "automargin": true,
            "type": "pie"
           }
          ],
          "scatter": [
           {
            "fillpattern": {
             "fillmode": "overlay",
             "size": 10,
             "solidity": 0.2
            },
            "type": "scatter"
           }
          ],
          "scatter3d": [
           {
            "line": {
             "colorbar": {
              "outlinewidth": 0,
              "ticks": ""
             }
            },
            "marker": {
             "colorbar": {
              "outlinewidth": 0,
              "ticks": ""
             }
            },
            "type": "scatter3d"
           }
          ],
          "scattercarpet": [
           {
            "marker": {
             "colorbar": {
              "outlinewidth": 0,
              "ticks": ""
             }
            },
            "type": "scattercarpet"
           }
          ],
          "scattergeo": [
           {
            "marker": {
             "colorbar": {
              "outlinewidth": 0,
              "ticks": ""
             }
            },
            "type": "scattergeo"
           }
          ],
          "scattergl": [
           {
            "marker": {
             "colorbar": {
              "outlinewidth": 0,
              "ticks": ""
             }
            },
            "type": "scattergl"
           }
          ],
          "scattermapbox": [
           {
            "marker": {
             "colorbar": {
              "outlinewidth": 0,
              "ticks": ""
             }
            },
            "type": "scattermapbox"
           }
          ],
          "scatterpolar": [
           {
            "marker": {
             "colorbar": {
              "outlinewidth": 0,
              "ticks": ""
             }
            },
            "type": "scatterpolar"
           }
          ],
          "scatterpolargl": [
           {
            "marker": {
             "colorbar": {
              "outlinewidth": 0,
              "ticks": ""
             }
            },
            "type": "scatterpolargl"
           }
          ],
          "scatterternary": [
           {
            "marker": {
             "colorbar": {
              "outlinewidth": 0,
              "ticks": ""
             }
            },
            "type": "scatterternary"
           }
          ],
          "surface": [
           {
            "colorbar": {
             "outlinewidth": 0,
             "ticks": ""
            },
            "colorscale": [
             [
              0,
              "#0d0887"
             ],
             [
              0.1111111111111111,
              "#46039f"
             ],
             [
              0.2222222222222222,
              "#7201a8"
             ],
             [
              0.3333333333333333,
              "#9c179e"
             ],
             [
              0.4444444444444444,
              "#bd3786"
             ],
             [
              0.5555555555555556,
              "#d8576b"
             ],
             [
              0.6666666666666666,
              "#ed7953"
             ],
             [
              0.7777777777777778,
              "#fb9f3a"
             ],
             [
              0.8888888888888888,
              "#fdca26"
             ],
             [
              1,
              "#f0f921"
             ]
            ],
            "type": "surface"
           }
          ],
          "table": [
           {
            "cells": {
             "fill": {
              "color": "#EBF0F8"
             },
             "line": {
              "color": "white"
             }
            },
            "header": {
             "fill": {
              "color": "#C8D4E3"
             },
             "line": {
              "color": "white"
             }
            },
            "type": "table"
           }
          ]
         },
         "layout": {
          "annotationdefaults": {
           "arrowcolor": "#2a3f5f",
           "arrowhead": 0,
           "arrowwidth": 1
          },
          "autotypenumbers": "strict",
          "coloraxis": {
           "colorbar": {
            "outlinewidth": 0,
            "ticks": ""
           }
          },
          "colorscale": {
           "diverging": [
            [
             0,
             "#8e0152"
            ],
            [
             0.1,
             "#c51b7d"
            ],
            [
             0.2,
             "#de77ae"
            ],
            [
             0.3,
             "#f1b6da"
            ],
            [
             0.4,
             "#fde0ef"
            ],
            [
             0.5,
             "#f7f7f7"
            ],
            [
             0.6,
             "#e6f5d0"
            ],
            [
             0.7,
             "#b8e186"
            ],
            [
             0.8,
             "#7fbc41"
            ],
            [
             0.9,
             "#4d9221"
            ],
            [
             1,
             "#276419"
            ]
           ],
           "sequential": [
            [
             0,
             "#0d0887"
            ],
            [
             0.1111111111111111,
             "#46039f"
            ],
            [
             0.2222222222222222,
             "#7201a8"
            ],
            [
             0.3333333333333333,
             "#9c179e"
            ],
            [
             0.4444444444444444,
             "#bd3786"
            ],
            [
             0.5555555555555556,
             "#d8576b"
            ],
            [
             0.6666666666666666,
             "#ed7953"
            ],
            [
             0.7777777777777778,
             "#fb9f3a"
            ],
            [
             0.8888888888888888,
             "#fdca26"
            ],
            [
             1,
             "#f0f921"
            ]
           ],
           "sequentialminus": [
            [
             0,
             "#0d0887"
            ],
            [
             0.1111111111111111,
             "#46039f"
            ],
            [
             0.2222222222222222,
             "#7201a8"
            ],
            [
             0.3333333333333333,
             "#9c179e"
            ],
            [
             0.4444444444444444,
             "#bd3786"
            ],
            [
             0.5555555555555556,
             "#d8576b"
            ],
            [
             0.6666666666666666,
             "#ed7953"
            ],
            [
             0.7777777777777778,
             "#fb9f3a"
            ],
            [
             0.8888888888888888,
             "#fdca26"
            ],
            [
             1,
             "#f0f921"
            ]
           ]
          },
          "colorway": [
           "#636efa",
           "#EF553B",
           "#00cc96",
           "#ab63fa",
           "#FFA15A",
           "#19d3f3",
           "#FF6692",
           "#B6E880",
           "#FF97FF",
           "#FECB52"
          ],
          "font": {
           "color": "#2a3f5f"
          },
          "geo": {
           "bgcolor": "white",
           "lakecolor": "white",
           "landcolor": "#E5ECF6",
           "showlakes": true,
           "showland": true,
           "subunitcolor": "white"
          },
          "hoverlabel": {
           "align": "left"
          },
          "hovermode": "closest",
          "mapbox": {
           "style": "light"
          },
          "paper_bgcolor": "white",
          "plot_bgcolor": "#E5ECF6",
          "polar": {
           "angularaxis": {
            "gridcolor": "white",
            "linecolor": "white",
            "ticks": ""
           },
           "bgcolor": "#E5ECF6",
           "radialaxis": {
            "gridcolor": "white",
            "linecolor": "white",
            "ticks": ""
           }
          },
          "scene": {
           "xaxis": {
            "backgroundcolor": "#E5ECF6",
            "gridcolor": "white",
            "gridwidth": 2,
            "linecolor": "white",
            "showbackground": true,
            "ticks": "",
            "zerolinecolor": "white"
           },
           "yaxis": {
            "backgroundcolor": "#E5ECF6",
            "gridcolor": "white",
            "gridwidth": 2,
            "linecolor": "white",
            "showbackground": true,
            "ticks": "",
            "zerolinecolor": "white"
           },
           "zaxis": {
            "backgroundcolor": "#E5ECF6",
            "gridcolor": "white",
            "gridwidth": 2,
            "linecolor": "white",
            "showbackground": true,
            "ticks": "",
            "zerolinecolor": "white"
           }
          },
          "shapedefaults": {
           "line": {
            "color": "#2a3f5f"
           }
          },
          "ternary": {
           "aaxis": {
            "gridcolor": "white",
            "linecolor": "white",
            "ticks": ""
           },
           "baxis": {
            "gridcolor": "white",
            "linecolor": "white",
            "ticks": ""
           },
           "bgcolor": "#E5ECF6",
           "caxis": {
            "gridcolor": "white",
            "linecolor": "white",
            "ticks": ""
           }
          },
          "title": {
           "x": 0.05
          },
          "xaxis": {
           "automargin": true,
           "gridcolor": "white",
           "linecolor": "white",
           "ticks": "",
           "title": {
            "standoff": 15
           },
           "zerolinecolor": "white",
           "zerolinewidth": 2
          },
          "yaxis": {
           "automargin": true,
           "gridcolor": "white",
           "linecolor": "white",
           "ticks": "",
           "title": {
            "standoff": 15
           },
           "zerolinecolor": "white",
           "zerolinewidth": 2
          }
         }
        },
        "title": {
         "text": "Top 10 Keywords by Top of Page Bid (High Range)"
        },
        "xaxis": {
         "anchor": "y",
         "domain": [
          0,
          1
         ],
         "title": {
          "text": "Keyword"
         }
        },
        "yaxis": {
         "anchor": "x",
         "domain": [
          0,
          1
         ],
         "title": {
          "text": "Top of Page Bid (High Range)"
         }
        }
       }
      }
     },
     "metadata": {},
     "output_type": "display_data"
    }
   ],
   "source": [
    "#Top 10 Keywords by Top of Page Bid (High Range): Visualize which keywords have the highest cost per click using a bar chart.\n",
    "top_bids = df.nlargest(10, 'Top of page bid (high range)')\n",
    "\n",
    "# Create a bar chart\n",
    "fig = px.bar(top_bids, x='Keyword', y='Top of page bid (high range)',\n",
    "             title='Top 10 Keywords by Top of Page Bid (High Range)',\n",
    "             labels={'Top of page bid (high range)': 'Top of Page Bid (High Range)'},\n",
    "             color='Top of page bid (high range)')\n",
    "\n",
    "fig.show()\n"
   ]
  },
  {
   "cell_type": "code",
   "execution_count": 32,
   "metadata": {},
   "outputs": [
    {
     "data": {
      "application/vnd.plotly.v1+json": {
       "config": {
        "plotlyServerURL": "https://plot.ly"
       },
       "data": [
        {
         "hovertemplate": "<b>%{hovertext}</b><br><br>Competition=%{y}<br>Average Monthly Searches=%{x}<br>Top of page bid (high range)=%{marker.size}<extra></extra>",
         "hovertext": [
          "it consultant",
          "it consultants near me",
          "it consultant company",
          "it services company",
          "it services and it consulting",
          "it consulting companies near me",
          "it consulting firms near me",
          "it consulting services",
          "top it consulting firms",
          "it consulting firms",
          "small business it consultant",
          "it consulting business",
          "it services and it consulting companies",
          "it security consulting",
          "it business consultant",
          "best it consulting firms",
          "it services and consulting",
          "deloitte it consulting",
          "it consulting website",
          "it consulting services near me",
          "it advisory",
          "it support consultant",
          "it advisory services",
          "top it consulting companies",
          "ey it consulting",
          "best it consulting websites",
          "it consulting services for small business",
          "biggest it consulting firms",
          "it management consultant",
          "ibm it consulting",
          "accenture it consulting",
          "it audit consultant",
          "largest it consulting firms",
          "it consulting and services companies",
          "it services consulting companies",
          "it strategy consultant",
          "it services and consulting companies",
          "best it consulting companies",
          "it cloud consulting services",
          "it consulting software",
          "it software consulting companies",
          "it consulting and outsourcing company",
          "tcs it company",
          "it project management consultant",
          "it infrastructure consulting",
          "it consulting services companies",
          "it tech consultant",
          "pwc it consulting",
          "it audit consulting firms",
          "it software consultant",
          "independent it consultant",
          "private it consultant",
          "ict consulting",
          "large it consulting firms",
          "it consulting & services",
          "professional it services & technology consulting",
          "it consulting group",
          "it project management companies",
          "it consultant microsoft",
          "local it consulting firms",
          "it consulting and software development",
          "raye it consulting",
          "it project management consulting services",
          "it and consulting services",
          "ahead it consulting",
          "it project consultant",
          "it technology consulting",
          "it strategy mckinsey",
          "ey it services and it consulting",
          "cloud it consulting",
          "afineol it consulting",
          "it consulting and support",
          "top 10 it consulting companies",
          "it consulting outsourcing",
          "it cyber security consultant",
          "it business consulting services",
          "top it consultants",
          "top it consulting firms 2022",
          "kpmg it consulting",
          "it services & consulting",
          "small it consulting firms",
          "a2c it consulting",
          "tcs it",
          "sap it consultant",
          "it strategy and consulting",
          "it service management consultant",
          "it and consulting",
          "outsourced it consulting",
          "it support and consulting",
          "leading it consulting firms",
          "top 10 it consulting firms",
          "it services it consulting",
          "best it consulting",
          "tata it consulting",
          "quarry it consulting",
          "atlantis it consulting",
          "it advisory firms",
          "computer it consulting services",
          "it infrastructure consulting services",
          "managed it consulting",
          "accenture it strategy",
          "global it consulting",
          "it strategy services",
          "it operations consultant",
          "wipro it consulting",
          "solomon it consulting",
          "it risk consultant",
          "prosource it consulting inc",
          "it governance consultant",
          "it empowerment consulting",
          "enterprise it consulting services",
          "consulting services it",
          "it consulting software development",
          "it senior consultant",
          "rena consulting it audit",
          "software it consulting",
          "it consulting for business",
          "it consultant sap",
          "it consulting and support services",
          "strategic it consulting services",
          "shaleen arora it consultant",
          "canadian it consulting companies",
          "small it consulting companies",
          "business and it consulting",
          "jones it consulting",
          "it consulting inc",
          "professional it consultant",
          "phoenix it consultants",
          "it infrastructure consulting firms",
          "melbourne it consulting",
          "professional it consulting services",
          "certified it consultants",
          "it services and it consulting company",
          "biggest it consulting companies",
          "top it consulting services",
          "top it strategy consulting firms",
          "global it consulting services",
          "it security consulting services",
          "visual it consulting",
          "ubds it consulting",
          "mckinsey it consulting",
          "it resourcing",
          "launch it consulting",
          "top 50 it consulting firms",
          "kpmg it advisory",
          "capgemini it consultant",
          "top 100 it consulting firms",
          "global it consulting companies",
          "a2z it consulting inc",
          "steadfast it consulting",
          "slalom it consulting",
          "cgi it consulting",
          "it advisory consultant",
          "abjima it consulting",
          "absyntech it consultant",
          "accelerated it services & consulting gmbh",
          "advanced it consultant",
          "advanced it consulting services",
          "agile it consulting",
          "align it consulting",
          "alliance it consulting",
          "an it consultant",
          "as it consulting",
          "atribs it consulting",
          "bain it consulting",
          "best it consulting services",
          "best it strategy consulting firms",
          "big4 it company",
          "boston consulting group it",
          "brillio it company",
          "business & it consulting",
          "business consultant ict",
          "business it consulting services",
          "capco it",
          "ckr it consulting",
          "consultant it service management",
          "consulting for it companies",
          "crystal it consulting",
          "cwk it consulting gmbh",
          "cybersec it consulting",
          "deloitte consulting it",
          "deloitte it advisory",
          "deloitte it risk advisory",
          "dex it consulting",
          "dms it consulting",
          "e and e it consulting",
          "east bay it consulting",
          "entune it consulting",
          "epcon it consulting gmbh",
          "ernst and young it consulting",
          "esd it consulting",
          "evantage it consulting services",
          "expert it consultants",
          "ey it advisory",
          "fujitsu it consulting",
          "gemsource it consulting",
          "ggs it consulting",
          "global it consulting firms",
          "gradient m it consulting",
          "gravity it consulting",
          "green it consultant",
          "green leaf it consulting",
          "hcl it consulting",
          "hungry bird it consulting services",
          "information technology it consultant",
          "information technology it consulting and support services",
          "information technology it consulting services",
          "international it consultant",
          "it and cybersecurity consulting",
          "it and management consulting",
          "it asset management consulting",
          "it company consulting",
          "it consu",
          "it consultant capgemini",
          "it consultant developer",
          "it consultant ey",
          "it consultant oracle",
          "it consulting & strategy",
          "it consulting and managed services",
          "it consulting and outsourcing",
          "it consulting business software",
          "it consulting firm services",
          "it consulting group inc",
          "it consulting management",
          "it consulting mnc",
          "it consulting process",
          "it consulting professional services",
          "it consulting project",
          "it consulting provider",
          "it consulting services firm",
          "it consulting solution",
          "it consulting startups",
          "it consulting support",
          "it consulting to management consulting",
          "it domain in tcs",
          "it governance consulting services",
          "it infrastructure consulting companies",
          "it management and consulting",
          "it management consulting services",
          "it network consulting services",
          "it process consulting",
          "it product consultant",
          "it professional consulting",
          "it project management consulting companies",
          "it project management consulting firms",
          "it software consulting services",
          "it sourcing advisory",
          "it strategy consulting services",
          "it support and consulting services",
          "it technology consulting services",
          "it trailblazers consulting",
          "iws consulting it advisory company",
          "joy it consulting",
          "kinonah it consulting services",
          "largest it consulting companies",
          "managed it consulting services",
          "managed it services consulting",
          "mercer it company",
          "metscon it consulting",
          "microvision it consultant",
          "mind it consulting",
          "modis it consulting",
          "mouri tech it consulting",
          "mouritech it consulting",
          "nestor it consultants",
          "network it consulting services",
          "new wave it consulting",
          "non profit it consulting",
          "offshore it consulting",
          "pacavo it consulting",
          "paragon it consulting",
          "photon it consulting",
          "poonam it consulting",
          "poonam it consulting services",
          "prodigy it consulting",
          "protiviti it audit",
          "protiviti it consulting",
          "pwc it advisory",
          "ramkrishna it consulting",
          "renovize it consulting",
          "sankalit it consultant",
          "sapster it consulting",
          "sazan it consulting inc",
          "secure it consulting",
          "serviced it consulting",
          "sivils it consulting",
          "skanda it consulting",
          "slk it services and it consulting",
          "softsages technology it consulting services cyber security",
          "source it consulting",
          "synergy it consulting",
          "tcs it consulting",
          "tcs it infrastructure",
          "tech era it consulting",
          "technical it consulting",
          "thoughtworks it company",
          "top 4 it consulting firms",
          "top global it consulting firms",
          "vendorcom it consulting",
          "vls it consulting",
          "vukile it consulting",
          "world's biggest it consulting firms",
          "world's largest it consulting companies"
         ],
         "legendgroup": "Low",
         "marker": {
          "color": "#636efa",
          "size": [
           77,
           48.14,
           58.94,
           60.55,
           69.79,
           43.1,
           43.1,
           84.91,
           59.01,
           178.28,
           192.98,
           51.89,
           67.8,
           104.12,
           51.89,
           58.85,
           67.8,
           172.42,
           95.42,
           69.5,
           82.86,
           82.86,
           82.86,
           59.01,
           239.72,
           124.71,
           82.86,
           82.86,
           82.86,
           104.85,
           189.41,
           82.86,
           82.86,
           82.86,
           54.84,
           54.05,
           181.63,
           59.01,
           82.86,
           39.34,
           66.12,
           61.1,
           52.73,
           82.86,
           82.86,
           432.73,
           82.86,
           82.86,
           82.86,
           39.34,
           82.86,
           82.86,
           82.86,
           82.86,
           84.91,
           82.86,
           82.86,
           82.86,
           82.86,
           82.86,
           82.86,
           82.86,
           82.86,
           84.91,
           82.86,
           30.97,
           82.86,
           82.86,
           82.86,
           82.86,
           82.86,
           82.86,
           82.86,
           82.86,
           91.91,
           82.86,
           82.86,
           82.86,
           82.86,
           84.91,
           82.86,
           302.99,
           82.86,
           82.86,
           54.05,
           82.86,
           82.86,
           82.86,
           82.86,
           82.86,
           82.86,
           82.86,
           82.86,
           82.86,
           82.86,
           82.86,
           82.86,
           82.86,
           82.86,
           82.86,
           82.86,
           82.86,
           82.86,
           82.86,
           689.69,
           82.86,
           1199.42,
           82.86,
           82.86,
           82.86,
           82.86,
           84.91,
           82.86,
           82.86,
           82.86,
           39.34,
           51.89,
           82.86,
           82.86,
           82.86,
           82.86,
           222.64,
           82.86,
           51.89,
           82.86,
           82.86,
           82.86,
           82.86,
           82.86,
           82.86,
           82.86,
           91.68,
           67.8,
           82.86,
           82.86,
           59.01,
           82.86,
           85.88,
           82.86,
           82.86,
           83.7,
           90.4,
           82.86,
           82.86,
           82.86,
           82.86,
           82.86,
           82.86,
           82.86,
           82.86,
           82.86,
           82.86,
           82.86,
           82.86,
           82.86,
           82.86,
           82.86,
           82.86,
           82.86,
           82.86,
           82.86,
           82.86,
           82.86,
           82.86,
           82.86,
           82.86,
           82.86,
           82.86,
           180.8,
           82.86,
           51.89,
           82.86,
           52.24,
           82.86,
           82.86,
           82.86,
           82.86,
           82.86,
           82.86,
           82.86,
           82.86,
           82.86,
           82.86,
           82.86,
           82.86,
           256.96,
           82.86,
           82.86,
           82.86,
           239.72,
           82.86,
           82.86,
           82.86,
           82.86,
           82.86,
           82.86,
           82.86,
           82.86,
           82.86,
           82.86,
           82.86,
           82.86,
           82.86,
           82.86,
           49.87,
           82.86,
           82.86,
           82.86,
           82.86,
           82.86,
           82.86,
           58.94,
           67.8,
           82.86,
           82.86,
           82.86,
           82.86,
           82.86,
           82.86,
           82.86,
           82.86,
           82.86,
           82.86,
           80.35,
           82.86,
           82.86,
           82.86,
           82.86,
           82.86,
           82.86,
           415.99,
           82.86,
           82.86,
           82.86,
           82.86,
           82.86,
           82.86,
           82.86,
           82.86,
           67.8,
           82.86,
           82.86,
           82.86,
           82.86,
           82.86,
           82.86,
           82.86,
           82.86,
           82.86,
           82.86,
           82.86,
           82.86,
           82.86,
           82.86,
           82.86,
           82.86,
           82.86,
           82.86,
           82.86,
           82.86,
           82.86,
           82.86,
           82.86,
           82.86,
           82.86,
           67.8,
           82.86,
           323.92,
           82.86,
           82.86,
           82.86,
           82.86,
           82.86,
           82.86,
           82.86,
           82.86,
           82.86,
           82.86,
           82.86,
           82.86,
           82.86,
           82.86,
           82.86,
           82.86,
           84.91,
           82.86,
           82.86,
           82.86,
           82.86,
           82.86,
           82.86,
           82.86,
           82.86,
           82.86,
           220.13,
           82.86,
           82.86,
           82.86,
           82.86,
           82.86,
           82.86,
           82.86,
           82.86
          ],
          "sizemode": "area",
          "sizeref": 0.47976800000000003,
          "symbol": "circle"
         },
         "mode": "markers",
         "name": "Low",
         "orientation": "h",
         "showlegend": true,
         "type": "scatter",
         "x": [
          5000,
          500,
          500,
          5000,
          500,
          50,
          50,
          5000,
          500,
          500,
          50,
          500,
          500,
          50,
          500,
          500,
          500,
          5000,
          50,
          50,
          50,
          50,
          50,
          500,
          5000,
          50,
          50,
          50,
          50,
          5000,
          500,
          50,
          50,
          50,
          50,
          50,
          500,
          500,
          50,
          50,
          50,
          50,
          50000,
          50,
          50,
          50,
          50,
          500,
          50,
          50,
          50,
          50,
          500,
          50,
          5000,
          50,
          50,
          50,
          50,
          50,
          50,
          50,
          50,
          5000,
          50,
          50,
          50,
          50,
          50,
          50,
          50,
          50,
          50,
          50,
          50,
          50,
          50,
          50,
          50,
          5000,
          50,
          50,
          500,
          50,
          50,
          50,
          50,
          50,
          50,
          50,
          50,
          50,
          50,
          50,
          50,
          500,
          50,
          50,
          50,
          50,
          50,
          50,
          50,
          50,
          500,
          50,
          500,
          50,
          50,
          50,
          50,
          5000,
          50,
          50,
          50,
          50,
          500,
          50,
          50,
          50,
          50,
          50,
          50,
          500,
          50,
          50,
          50,
          50,
          50,
          50,
          50,
          50,
          500,
          50,
          50,
          500,
          50,
          50,
          50,
          50,
          500,
          500,
          500,
          50,
          50,
          50,
          50,
          50,
          50,
          50,
          5000,
          50,
          50,
          50,
          50,
          50,
          50,
          50,
          50,
          50,
          50,
          50,
          50,
          50,
          50,
          50,
          50,
          500,
          50000,
          50,
          500,
          50,
          5000,
          50,
          50,
          50,
          50,
          50,
          50,
          50,
          50,
          50,
          50,
          50,
          50,
          50,
          50,
          500,
          50,
          5000,
          50,
          50,
          50,
          50,
          500,
          50,
          50,
          50,
          50,
          50,
          50,
          50,
          500,
          500,
          500,
          50,
          50,
          50,
          50,
          50,
          50,
          500,
          500,
          50,
          50,
          50,
          50,
          50,
          50,
          50,
          50,
          50,
          50,
          50000,
          50,
          50,
          50,
          50,
          50,
          50,
          50,
          50,
          50,
          50,
          50,
          50,
          50,
          50,
          50,
          50,
          50,
          50,
          50,
          50,
          50,
          50,
          50,
          50,
          50,
          50,
          50,
          50,
          500,
          50,
          50,
          50,
          50,
          50,
          50,
          50,
          50,
          50,
          50,
          50,
          50,
          50,
          50,
          50,
          50,
          50,
          50,
          50,
          50,
          500,
          50,
          50,
          50,
          500,
          50,
          50,
          50,
          50,
          50,
          50,
          5000,
          50,
          50,
          50,
          500,
          50,
          50,
          50,
          50,
          500,
          5000,
          50,
          50,
          50,
          50,
          50,
          50,
          50,
          50
         ],
         "xaxis": "x",
         "y": [
          "Low",
          "Low",
          "Low",
          "Low",
          "Low",
          "Low",
          "Low",
          "Low",
          "Low",
          "Low",
          "Low",
          "Low",
          "Low",
          "Low",
          "Low",
          "Low",
          "Low",
          "Low",
          "Low",
          "Low",
          "Low",
          "Low",
          "Low",
          "Low",
          "Low",
          "Low",
          "Low",
          "Low",
          "Low",
          "Low",
          "Low",
          "Low",
          "Low",
          "Low",
          "Low",
          "Low",
          "Low",
          "Low",
          "Low",
          "Low",
          "Low",
          "Low",
          "Low",
          "Low",
          "Low",
          "Low",
          "Low",
          "Low",
          "Low",
          "Low",
          "Low",
          "Low",
          "Low",
          "Low",
          "Low",
          "Low",
          "Low",
          "Low",
          "Low",
          "Low",
          "Low",
          "Low",
          "Low",
          "Low",
          "Low",
          "Low",
          "Low",
          "Low",
          "Low",
          "Low",
          "Low",
          "Low",
          "Low",
          "Low",
          "Low",
          "Low",
          "Low",
          "Low",
          "Low",
          "Low",
          "Low",
          "Low",
          "Low",
          "Low",
          "Low",
          "Low",
          "Low",
          "Low",
          "Low",
          "Low",
          "Low",
          "Low",
          "Low",
          "Low",
          "Low",
          "Low",
          "Low",
          "Low",
          "Low",
          "Low",
          "Low",
          "Low",
          "Low",
          "Low",
          "Low",
          "Low",
          "Low",
          "Low",
          "Low",
          "Low",
          "Low",
          "Low",
          "Low",
          "Low",
          "Low",
          "Low",
          "Low",
          "Low",
          "Low",
          "Low",
          "Low",
          "Low",
          "Low",
          "Low",
          "Low",
          "Low",
          "Low",
          "Low",
          "Low",
          "Low",
          "Low",
          "Low",
          "Low",
          "Low",
          "Low",
          "Low",
          "Low",
          "Low",
          "Low",
          "Low",
          "Low",
          "Low",
          "Low",
          "Low",
          "Low",
          "Low",
          "Low",
          "Low",
          "Low",
          "Low",
          "Low",
          "Low",
          "Low",
          "Low",
          "Low",
          "Low",
          "Low",
          "Low",
          "Low",
          "Low",
          "Low",
          "Low",
          "Low",
          "Low",
          "Low",
          "Low",
          "Low",
          "Low",
          "Low",
          "Low",
          "Low",
          "Low",
          "Low",
          "Low",
          "Low",
          "Low",
          "Low",
          "Low",
          "Low",
          "Low",
          "Low",
          "Low",
          "Low",
          "Low",
          "Low",
          "Low",
          "Low",
          "Low",
          "Low",
          "Low",
          "Low",
          "Low",
          "Low",
          "Low",
          "Low",
          "Low",
          "Low",
          "Low",
          "Low",
          "Low",
          "Low",
          "Low",
          "Low",
          "Low",
          "Low",
          "Low",
          "Low",
          "Low",
          "Low",
          "Low",
          "Low",
          "Low",
          "Low",
          "Low",
          "Low",
          "Low",
          "Low",
          "Low",
          "Low",
          "Low",
          "Low",
          "Low",
          "Low",
          "Low",
          "Low",
          "Low",
          "Low",
          "Low",
          "Low",
          "Low",
          "Low",
          "Low",
          "Low",
          "Low",
          "Low",
          "Low",
          "Low",
          "Low",
          "Low",
          "Low",
          "Low",
          "Low",
          "Low",
          "Low",
          "Low",
          "Low",
          "Low",
          "Low",
          "Low",
          "Low",
          "Low",
          "Low",
          "Low",
          "Low",
          "Low",
          "Low",
          "Low",
          "Low",
          "Low",
          "Low",
          "Low",
          "Low",
          "Low",
          "Low",
          "Low",
          "Low",
          "Low",
          "Low",
          "Low",
          "Low",
          "Low",
          "Low",
          "Low",
          "Low",
          "Low",
          "Low",
          "Low",
          "Low",
          "Low",
          "Low",
          "Low",
          "Low",
          "Low",
          "Low",
          "Low",
          "Low",
          "Low",
          "Low",
          "Low",
          "Low",
          "Low",
          "Low",
          "Low",
          "Low",
          "Low",
          "Low",
          "Low",
          "Low",
          "Low",
          "Low",
          "Low",
          "Low",
          "Low"
         ],
         "yaxis": "y"
        },
        {
         "hovertemplate": "<b>%{hovertext}</b><br><br>Competition=%{y}<br>Average Monthly Searches=%{x}<br>Top of page bid (high range)=%{marker.size}<extra></extra>",
         "hovertext": [
          "small business it consultant near me",
          "it strategy consulting firms",
          "top it consulting firms in us",
          "it network consultant",
          "it security consulting firms",
          "it consulting agencies",
          "top it consulting firms us",
          "bi it consulting",
          "it security consulting companies",
          "international it consulting firms",
          "it solution consulting",
          "it advisory companies",
          "manufacturing it consulting",
          "simplified it consulting"
         ],
         "legendgroup": "Medium",
         "marker": {
          "color": "#EF553B",
          "size": [
           82.86,
           82.86,
           190,
           131.41,
           134.6,
           82.86,
           190,
           82.86,
           134.6,
           82.86,
           583.39,
           82.86,
           51.41,
           600.55
          ],
          "sizemode": "area",
          "sizeref": 0.47976800000000003,
          "symbol": "circle"
         },
         "mode": "markers",
         "name": "Medium",
         "orientation": "h",
         "showlegend": true,
         "type": "scatter",
         "x": [
          50,
          50,
          500,
          50,
          50,
          50,
          500,
          50,
          50,
          50,
          50,
          50,
          50,
          50
         ],
         "xaxis": "x",
         "y": [
          "Medium",
          "Medium",
          "Medium",
          "Medium",
          "Medium",
          "Medium",
          "Medium",
          "Medium",
          "Medium",
          "Medium",
          "Medium",
          "Medium",
          "Medium",
          "Medium"
         ],
         "yaxis": "y"
        },
        {
         "hovertemplate": "<b>%{hovertext}</b><br><br>Competition=%{y}<br>Average Monthly Searches=%{x}<br>Top of page bid (high range)=%{marker.size}<extra></extra>",
         "hovertext": [
          "local it consultants",
          "it systems consultant",
          "find an it consultant",
          "it consulting experts",
          "it consulting dfw",
          "it assessment consulting",
          "salesforce it consulting",
          "it outsourcing consulting",
          "it audit consulting services",
          "netsolutions it consulting",
          "it compliance consultant",
          "thalamus it consulting",
          "anm it consulting",
          "it audit advisory",
          "it implementation consultant",
          "mckenzie it company",
          "forrester it consulting",
          "it consulting managed services",
          "xtracit it consulting",
          "deloitte it strategy",
          "corporate it consulting",
          "maximovich it consulting",
          "it consulting cloud services",
          "meraki it consulting",
          "a2z it consulting",
          "accesa it consulting",
          "adesso it consultant",
          "adisatya it consultant",
          "agility it consulting",
          "agriculture it consulting",
          "agriculture it consulting firms",
          "agtech it consulting firms",
          "albatross it consultants",
          "aman it consulting",
          "atos it consulting",
          "atoz it consulting",
          "avatar it consulting",
          "az it consulting",
          "being an it consultant",
          "best agriculture it consulting",
          "best agriculture it consulting firms",
          "best agtech it consulting",
          "best agtech it consulting firms",
          "best it consulting firms near me",
          "best it security consulting firms",
          "best it strategy consulting",
          "bhok it consulting inc",
          "bi it consulting services",
          "bigfoot it consulting",
          "biggest it consulting",
          "bluehub it consultants",
          "cloudconsole it consulting",
          "computer it consultant",
          "consultant it risk",
          "cpg it consulting",
          "cwk it consulting",
          "dc it consulting",
          "dell it consulting",
          "dws it consulting",
          "dyna it consultants",
          "e & e it consulting services inc",
          "ecm it consulting",
          "epcon it consulting",
          "exit it consulting",
          "external it consultant",
          "fluid it consulting",
          "foco it consulting",
          "french it consulting company",
          "frontside it consulting",
          "gemini it consulting",
          "globality it consulting",
          "greystone it consulting",
          "hb it consulting",
          "ibm it consulting services",
          "indice it consulting",
          "innovative it consulting",
          "isg it consulting",
          "it and business consulting companies",
          "it auditor consultant",
          "it business strategy services",
          "it computer consultant",
          "it consultant for manufacturing",
          "it consulting & outsourcing provider",
          "it consulting asset management",
          "it consulting banking",
          "it consulting for hospitality",
          "it consulting for manufacturing companies",
          "it consulting network",
          "it consulting real estate",
          "it consulting service offerings",
          "it consulting service provider",
          "it consulting south bay",
          "it design consulting",
          "it development consultant",
          "it erp consulting",
          "it expert consulting",
          "it factor consulting",
          "it information technology consultant",
          "it infrastructure management consulting",
          "it managed service consultant",
          "it management consulting & auditing",
          "it risk and advisory",
          "it service delivery consultant",
          "it service provider consulting",
          "it sourcing advisory firms",
          "it support services and consulting",
          "it web consultants",
          "k2 it consulting",
          "keystone it consulting",
          "local it consulting services",
          "lpj it consulting",
          "managed services it consultant",
          "mb it consulting",
          "mbm it consulting",
          "meditech it consulting",
          "mm it consulting",
          "moot it consulting",
          "motshwanelo it consulting",
          "nagarro it consulting & services",
          "nevadian it consulting",
          "noc for it consultant",
          "noc it consultant",
          "nss it consultants",
          "palmer it consultants",
          "phi it consulting",
          "pioneers it & business consulting",
          "point it consulting",
          "protiviti it",
          "provide it consulting",
          "real it consultants",
          "reizend it consultants technopark",
          "rsi it consulting",
          "saas it consulting",
          "sage it consulting",
          "sap services it consulting",
          "sarp it consultant",
          "sazan it consulting",
          "silicon soft and it consultant",
          "sirius it consulting",
          "technology consulting & it services",
          "telecom it consulting",
          "the it consultant",
          "think it consulting",
          "top 5 it consulting firms",
          "top it project management consulting firms",
          "vault it consulting",
          "vir it consulting",
          "western bridger it consultants"
         ],
         "legendgroup": "Unknown",
         "marker": {
          "color": "#00cc96",
          "size": [
           82.86,
           82.86,
           82.86,
           82.86,
           82.86,
           82.86,
           82.86,
           82.86,
           82.86,
           82.86,
           82.86,
           82.86,
           82.86,
           82.86,
           82.86,
           82.86,
           82.86,
           82.86,
           82.86,
           82.86,
           82.86,
           82.86,
           82.86,
           82.86,
           82.86,
           82.86,
           82.86,
           82.86,
           82.86,
           82.86,
           82.86,
           82.86,
           82.86,
           82.86,
           82.86,
           82.86,
           82.86,
           82.86,
           82.86,
           82.86,
           82.86,
           82.86,
           82.86,
           82.86,
           82.86,
           82.86,
           82.86,
           82.86,
           82.86,
           82.86,
           82.86,
           82.86,
           82.86,
           82.86,
           82.86,
           82.86,
           82.86,
           82.86,
           82.86,
           82.86,
           82.86,
           82.86,
           82.86,
           82.86,
           82.86,
           82.86,
           82.86,
           82.86,
           82.86,
           82.86,
           82.86,
           82.86,
           82.86,
           82.86,
           82.86,
           82.86,
           82.86,
           82.86,
           82.86,
           82.86,
           82.86,
           82.86,
           82.86,
           82.86,
           82.86,
           82.86,
           82.86,
           82.86,
           82.86,
           82.86,
           82.86,
           82.86,
           82.86,
           82.86,
           82.86,
           82.86,
           82.86,
           82.86,
           82.86,
           82.86,
           82.86,
           82.86,
           82.86,
           82.86,
           82.86,
           82.86,
           82.86,
           82.86,
           82.86,
           82.86,
           82.86,
           82.86,
           82.86,
           82.86,
           82.86,
           82.86,
           82.86,
           82.86,
           82.86,
           82.86,
           82.86,
           82.86,
           82.86,
           82.86,
           82.86,
           82.86,
           82.86,
           82.86,
           82.86,
           82.86,
           82.86,
           82.86,
           82.86,
           82.86,
           82.86,
           82.86,
           82.86,
           82.86,
           82.86,
           82.86,
           82.86,
           82.86,
           82.86,
           82.86,
           82.86,
           82.86,
           82.86,
           82.86
          ],
          "sizemode": "area",
          "sizeref": 0.47976800000000003,
          "symbol": "circle"
         },
         "mode": "markers",
         "name": "Unknown",
         "orientation": "h",
         "showlegend": true,
         "type": "scatter",
         "x": [
          50,
          50,
          0,
          50,
          50,
          50,
          50,
          50,
          50,
          50,
          50,
          50,
          50,
          50,
          50,
          50,
          0,
          50,
          50,
          50,
          50,
          50,
          50,
          50,
          50,
          50,
          50,
          50,
          0,
          50,
          50,
          0,
          50,
          50,
          50,
          50,
          50,
          50,
          50,
          0,
          0,
          0,
          0,
          50,
          50,
          50,
          50,
          50,
          50,
          50,
          50,
          50,
          50,
          0,
          50,
          50,
          50,
          50,
          50,
          0,
          50,
          50,
          50,
          0,
          50,
          50,
          50,
          50,
          0,
          50,
          50,
          50,
          50,
          50,
          50,
          50,
          50,
          0,
          50,
          50,
          50,
          0,
          0,
          50,
          50,
          50,
          50,
          50,
          50,
          50,
          50,
          0,
          50,
          50,
          50,
          50,
          0,
          50,
          50,
          0,
          0,
          50,
          50,
          0,
          50,
          50,
          50,
          50,
          50,
          0,
          0,
          50,
          50,
          50,
          0,
          0,
          0,
          50,
          50,
          50,
          50,
          50,
          50,
          0,
          50,
          50,
          50,
          50,
          50,
          0,
          50,
          50,
          50,
          50,
          50,
          50,
          50,
          50,
          50,
          50,
          50,
          50,
          50,
          50,
          0,
          0,
          568.0942184154176,
          0
         ],
         "xaxis": "x",
         "y": [
          "Unknown",
          "Unknown",
          "Unknown",
          "Unknown",
          "Unknown",
          "Unknown",
          "Unknown",
          "Unknown",
          "Unknown",
          "Unknown",
          "Unknown",
          "Unknown",
          "Unknown",
          "Unknown",
          "Unknown",
          "Unknown",
          "Unknown",
          "Unknown",
          "Unknown",
          "Unknown",
          "Unknown",
          "Unknown",
          "Unknown",
          "Unknown",
          "Unknown",
          "Unknown",
          "Unknown",
          "Unknown",
          "Unknown",
          "Unknown",
          "Unknown",
          "Unknown",
          "Unknown",
          "Unknown",
          "Unknown",
          "Unknown",
          "Unknown",
          "Unknown",
          "Unknown",
          "Unknown",
          "Unknown",
          "Unknown",
          "Unknown",
          "Unknown",
          "Unknown",
          "Unknown",
          "Unknown",
          "Unknown",
          "Unknown",
          "Unknown",
          "Unknown",
          "Unknown",
          "Unknown",
          "Unknown",
          "Unknown",
          "Unknown",
          "Unknown",
          "Unknown",
          "Unknown",
          "Unknown",
          "Unknown",
          "Unknown",
          "Unknown",
          "Unknown",
          "Unknown",
          "Unknown",
          "Unknown",
          "Unknown",
          "Unknown",
          "Unknown",
          "Unknown",
          "Unknown",
          "Unknown",
          "Unknown",
          "Unknown",
          "Unknown",
          "Unknown",
          "Unknown",
          "Unknown",
          "Unknown",
          "Unknown",
          "Unknown",
          "Unknown",
          "Unknown",
          "Unknown",
          "Unknown",
          "Unknown",
          "Unknown",
          "Unknown",
          "Unknown",
          "Unknown",
          "Unknown",
          "Unknown",
          "Unknown",
          "Unknown",
          "Unknown",
          "Unknown",
          "Unknown",
          "Unknown",
          "Unknown",
          "Unknown",
          "Unknown",
          "Unknown",
          "Unknown",
          "Unknown",
          "Unknown",
          "Unknown",
          "Unknown",
          "Unknown",
          "Unknown",
          "Unknown",
          "Unknown",
          "Unknown",
          "Unknown",
          "Unknown",
          "Unknown",
          "Unknown",
          "Unknown",
          "Unknown",
          "Unknown",
          "Unknown",
          "Unknown",
          "Unknown",
          "Unknown",
          "Unknown",
          "Unknown",
          "Unknown",
          "Unknown",
          "Unknown",
          "Unknown",
          "Unknown",
          "Unknown",
          "Unknown",
          "Unknown",
          "Unknown",
          "Unknown",
          "Unknown",
          "Unknown",
          "Unknown",
          "Unknown",
          "Unknown",
          "Unknown",
          "Unknown",
          "Unknown",
          "Unknown",
          "Unknown",
          "Unknown",
          "Unknown"
         ],
         "yaxis": "y"
        },
        {
         "hovertemplate": "<b>%{hovertext}</b><br><br>Competition=%{y}<br>Average Monthly Searches=%{x}<br>Top of page bid (high range)=%{marker.size}<extra></extra>",
         "hovertext": [
          "it management consulting companies",
          "business it consulting firm",
          "it management consulting firms"
         ],
         "legendgroup": "High",
         "marker": {
          "color": "#ab63fa",
          "size": [
           82.86,
           82.86,
           82.86
          ],
          "sizemode": "area",
          "sizeref": 0.47976800000000003,
          "symbol": "circle"
         },
         "mode": "markers",
         "name": "High",
         "orientation": "h",
         "showlegend": true,
         "type": "scatter",
         "x": [
          50,
          50,
          50
         ],
         "xaxis": "x",
         "y": [
          "High",
          "High",
          "High"
         ],
         "yaxis": "y"
        }
       ],
       "layout": {
        "legend": {
         "itemsizing": "constant",
         "title": {
          "text": "Competition"
         },
         "tracegroupgap": 0
        },
        "template": {
         "data": {
          "bar": [
           {
            "error_x": {
             "color": "#2a3f5f"
            },
            "error_y": {
             "color": "#2a3f5f"
            },
            "marker": {
             "line": {
              "color": "#E5ECF6",
              "width": 0.5
             },
             "pattern": {
              "fillmode": "overlay",
              "size": 10,
              "solidity": 0.2
             }
            },
            "type": "bar"
           }
          ],
          "barpolar": [
           {
            "marker": {
             "line": {
              "color": "#E5ECF6",
              "width": 0.5
             },
             "pattern": {
              "fillmode": "overlay",
              "size": 10,
              "solidity": 0.2
             }
            },
            "type": "barpolar"
           }
          ],
          "carpet": [
           {
            "aaxis": {
             "endlinecolor": "#2a3f5f",
             "gridcolor": "white",
             "linecolor": "white",
             "minorgridcolor": "white",
             "startlinecolor": "#2a3f5f"
            },
            "baxis": {
             "endlinecolor": "#2a3f5f",
             "gridcolor": "white",
             "linecolor": "white",
             "minorgridcolor": "white",
             "startlinecolor": "#2a3f5f"
            },
            "type": "carpet"
           }
          ],
          "choropleth": [
           {
            "colorbar": {
             "outlinewidth": 0,
             "ticks": ""
            },
            "type": "choropleth"
           }
          ],
          "contour": [
           {
            "colorbar": {
             "outlinewidth": 0,
             "ticks": ""
            },
            "colorscale": [
             [
              0,
              "#0d0887"
             ],
             [
              0.1111111111111111,
              "#46039f"
             ],
             [
              0.2222222222222222,
              "#7201a8"
             ],
             [
              0.3333333333333333,
              "#9c179e"
             ],
             [
              0.4444444444444444,
              "#bd3786"
             ],
             [
              0.5555555555555556,
              "#d8576b"
             ],
             [
              0.6666666666666666,
              "#ed7953"
             ],
             [
              0.7777777777777778,
              "#fb9f3a"
             ],
             [
              0.8888888888888888,
              "#fdca26"
             ],
             [
              1,
              "#f0f921"
             ]
            ],
            "type": "contour"
           }
          ],
          "contourcarpet": [
           {
            "colorbar": {
             "outlinewidth": 0,
             "ticks": ""
            },
            "type": "contourcarpet"
           }
          ],
          "heatmap": [
           {
            "colorbar": {
             "outlinewidth": 0,
             "ticks": ""
            },
            "colorscale": [
             [
              0,
              "#0d0887"
             ],
             [
              0.1111111111111111,
              "#46039f"
             ],
             [
              0.2222222222222222,
              "#7201a8"
             ],
             [
              0.3333333333333333,
              "#9c179e"
             ],
             [
              0.4444444444444444,
              "#bd3786"
             ],
             [
              0.5555555555555556,
              "#d8576b"
             ],
             [
              0.6666666666666666,
              "#ed7953"
             ],
             [
              0.7777777777777778,
              "#fb9f3a"
             ],
             [
              0.8888888888888888,
              "#fdca26"
             ],
             [
              1,
              "#f0f921"
             ]
            ],
            "type": "heatmap"
           }
          ],
          "heatmapgl": [
           {
            "colorbar": {
             "outlinewidth": 0,
             "ticks": ""
            },
            "colorscale": [
             [
              0,
              "#0d0887"
             ],
             [
              0.1111111111111111,
              "#46039f"
             ],
             [
              0.2222222222222222,
              "#7201a8"
             ],
             [
              0.3333333333333333,
              "#9c179e"
             ],
             [
              0.4444444444444444,
              "#bd3786"
             ],
             [
              0.5555555555555556,
              "#d8576b"
             ],
             [
              0.6666666666666666,
              "#ed7953"
             ],
             [
              0.7777777777777778,
              "#fb9f3a"
             ],
             [
              0.8888888888888888,
              "#fdca26"
             ],
             [
              1,
              "#f0f921"
             ]
            ],
            "type": "heatmapgl"
           }
          ],
          "histogram": [
           {
            "marker": {
             "pattern": {
              "fillmode": "overlay",
              "size": 10,
              "solidity": 0.2
             }
            },
            "type": "histogram"
           }
          ],
          "histogram2d": [
           {
            "colorbar": {
             "outlinewidth": 0,
             "ticks": ""
            },
            "colorscale": [
             [
              0,
              "#0d0887"
             ],
             [
              0.1111111111111111,
              "#46039f"
             ],
             [
              0.2222222222222222,
              "#7201a8"
             ],
             [
              0.3333333333333333,
              "#9c179e"
             ],
             [
              0.4444444444444444,
              "#bd3786"
             ],
             [
              0.5555555555555556,
              "#d8576b"
             ],
             [
              0.6666666666666666,
              "#ed7953"
             ],
             [
              0.7777777777777778,
              "#fb9f3a"
             ],
             [
              0.8888888888888888,
              "#fdca26"
             ],
             [
              1,
              "#f0f921"
             ]
            ],
            "type": "histogram2d"
           }
          ],
          "histogram2dcontour": [
           {
            "colorbar": {
             "outlinewidth": 0,
             "ticks": ""
            },
            "colorscale": [
             [
              0,
              "#0d0887"
             ],
             [
              0.1111111111111111,
              "#46039f"
             ],
             [
              0.2222222222222222,
              "#7201a8"
             ],
             [
              0.3333333333333333,
              "#9c179e"
             ],
             [
              0.4444444444444444,
              "#bd3786"
             ],
             [
              0.5555555555555556,
              "#d8576b"
             ],
             [
              0.6666666666666666,
              "#ed7953"
             ],
             [
              0.7777777777777778,
              "#fb9f3a"
             ],
             [
              0.8888888888888888,
              "#fdca26"
             ],
             [
              1,
              "#f0f921"
             ]
            ],
            "type": "histogram2dcontour"
           }
          ],
          "mesh3d": [
           {
            "colorbar": {
             "outlinewidth": 0,
             "ticks": ""
            },
            "type": "mesh3d"
           }
          ],
          "parcoords": [
           {
            "line": {
             "colorbar": {
              "outlinewidth": 0,
              "ticks": ""
             }
            },
            "type": "parcoords"
           }
          ],
          "pie": [
           {
            "automargin": true,
            "type": "pie"
           }
          ],
          "scatter": [
           {
            "fillpattern": {
             "fillmode": "overlay",
             "size": 10,
             "solidity": 0.2
            },
            "type": "scatter"
           }
          ],
          "scatter3d": [
           {
            "line": {
             "colorbar": {
              "outlinewidth": 0,
              "ticks": ""
             }
            },
            "marker": {
             "colorbar": {
              "outlinewidth": 0,
              "ticks": ""
             }
            },
            "type": "scatter3d"
           }
          ],
          "scattercarpet": [
           {
            "marker": {
             "colorbar": {
              "outlinewidth": 0,
              "ticks": ""
             }
            },
            "type": "scattercarpet"
           }
          ],
          "scattergeo": [
           {
            "marker": {
             "colorbar": {
              "outlinewidth": 0,
              "ticks": ""
             }
            },
            "type": "scattergeo"
           }
          ],
          "scattergl": [
           {
            "marker": {
             "colorbar": {
              "outlinewidth": 0,
              "ticks": ""
             }
            },
            "type": "scattergl"
           }
          ],
          "scattermapbox": [
           {
            "marker": {
             "colorbar": {
              "outlinewidth": 0,
              "ticks": ""
             }
            },
            "type": "scattermapbox"
           }
          ],
          "scatterpolar": [
           {
            "marker": {
             "colorbar": {
              "outlinewidth": 0,
              "ticks": ""
             }
            },
            "type": "scatterpolar"
           }
          ],
          "scatterpolargl": [
           {
            "marker": {
             "colorbar": {
              "outlinewidth": 0,
              "ticks": ""
             }
            },
            "type": "scatterpolargl"
           }
          ],
          "scatterternary": [
           {
            "marker": {
             "colorbar": {
              "outlinewidth": 0,
              "ticks": ""
             }
            },
            "type": "scatterternary"
           }
          ],
          "surface": [
           {
            "colorbar": {
             "outlinewidth": 0,
             "ticks": ""
            },
            "colorscale": [
             [
              0,
              "#0d0887"
             ],
             [
              0.1111111111111111,
              "#46039f"
             ],
             [
              0.2222222222222222,
              "#7201a8"
             ],
             [
              0.3333333333333333,
              "#9c179e"
             ],
             [
              0.4444444444444444,
              "#bd3786"
             ],
             [
              0.5555555555555556,
              "#d8576b"
             ],
             [
              0.6666666666666666,
              "#ed7953"
             ],
             [
              0.7777777777777778,
              "#fb9f3a"
             ],
             [
              0.8888888888888888,
              "#fdca26"
             ],
             [
              1,
              "#f0f921"
             ]
            ],
            "type": "surface"
           }
          ],
          "table": [
           {
            "cells": {
             "fill": {
              "color": "#EBF0F8"
             },
             "line": {
              "color": "white"
             }
            },
            "header": {
             "fill": {
              "color": "#C8D4E3"
             },
             "line": {
              "color": "white"
             }
            },
            "type": "table"
           }
          ]
         },
         "layout": {
          "annotationdefaults": {
           "arrowcolor": "#2a3f5f",
           "arrowhead": 0,
           "arrowwidth": 1
          },
          "autotypenumbers": "strict",
          "coloraxis": {
           "colorbar": {
            "outlinewidth": 0,
            "ticks": ""
           }
          },
          "colorscale": {
           "diverging": [
            [
             0,
             "#8e0152"
            ],
            [
             0.1,
             "#c51b7d"
            ],
            [
             0.2,
             "#de77ae"
            ],
            [
             0.3,
             "#f1b6da"
            ],
            [
             0.4,
             "#fde0ef"
            ],
            [
             0.5,
             "#f7f7f7"
            ],
            [
             0.6,
             "#e6f5d0"
            ],
            [
             0.7,
             "#b8e186"
            ],
            [
             0.8,
             "#7fbc41"
            ],
            [
             0.9,
             "#4d9221"
            ],
            [
             1,
             "#276419"
            ]
           ],
           "sequential": [
            [
             0,
             "#0d0887"
            ],
            [
             0.1111111111111111,
             "#46039f"
            ],
            [
             0.2222222222222222,
             "#7201a8"
            ],
            [
             0.3333333333333333,
             "#9c179e"
            ],
            [
             0.4444444444444444,
             "#bd3786"
            ],
            [
             0.5555555555555556,
             "#d8576b"
            ],
            [
             0.6666666666666666,
             "#ed7953"
            ],
            [
             0.7777777777777778,
             "#fb9f3a"
            ],
            [
             0.8888888888888888,
             "#fdca26"
            ],
            [
             1,
             "#f0f921"
            ]
           ],
           "sequentialminus": [
            [
             0,
             "#0d0887"
            ],
            [
             0.1111111111111111,
             "#46039f"
            ],
            [
             0.2222222222222222,
             "#7201a8"
            ],
            [
             0.3333333333333333,
             "#9c179e"
            ],
            [
             0.4444444444444444,
             "#bd3786"
            ],
            [
             0.5555555555555556,
             "#d8576b"
            ],
            [
             0.6666666666666666,
             "#ed7953"
            ],
            [
             0.7777777777777778,
             "#fb9f3a"
            ],
            [
             0.8888888888888888,
             "#fdca26"
            ],
            [
             1,
             "#f0f921"
            ]
           ]
          },
          "colorway": [
           "#636efa",
           "#EF553B",
           "#00cc96",
           "#ab63fa",
           "#FFA15A",
           "#19d3f3",
           "#FF6692",
           "#B6E880",
           "#FF97FF",
           "#FECB52"
          ],
          "font": {
           "color": "#2a3f5f"
          },
          "geo": {
           "bgcolor": "white",
           "lakecolor": "white",
           "landcolor": "#E5ECF6",
           "showlakes": true,
           "showland": true,
           "subunitcolor": "white"
          },
          "hoverlabel": {
           "align": "left"
          },
          "hovermode": "closest",
          "mapbox": {
           "style": "light"
          },
          "paper_bgcolor": "white",
          "plot_bgcolor": "#E5ECF6",
          "polar": {
           "angularaxis": {
            "gridcolor": "white",
            "linecolor": "white",
            "ticks": ""
           },
           "bgcolor": "#E5ECF6",
           "radialaxis": {
            "gridcolor": "white",
            "linecolor": "white",
            "ticks": ""
           }
          },
          "scene": {
           "xaxis": {
            "backgroundcolor": "#E5ECF6",
            "gridcolor": "white",
            "gridwidth": 2,
            "linecolor": "white",
            "showbackground": true,
            "ticks": "",
            "zerolinecolor": "white"
           },
           "yaxis": {
            "backgroundcolor": "#E5ECF6",
            "gridcolor": "white",
            "gridwidth": 2,
            "linecolor": "white",
            "showbackground": true,
            "ticks": "",
            "zerolinecolor": "white"
           },
           "zaxis": {
            "backgroundcolor": "#E5ECF6",
            "gridcolor": "white",
            "gridwidth": 2,
            "linecolor": "white",
            "showbackground": true,
            "ticks": "",
            "zerolinecolor": "white"
           }
          },
          "shapedefaults": {
           "line": {
            "color": "#2a3f5f"
           }
          },
          "ternary": {
           "aaxis": {
            "gridcolor": "white",
            "linecolor": "white",
            "ticks": ""
           },
           "baxis": {
            "gridcolor": "white",
            "linecolor": "white",
            "ticks": ""
           },
           "bgcolor": "#E5ECF6",
           "caxis": {
            "gridcolor": "white",
            "linecolor": "white",
            "ticks": ""
           }
          },
          "title": {
           "x": 0.05
          },
          "xaxis": {
           "automargin": true,
           "gridcolor": "white",
           "linecolor": "white",
           "ticks": "",
           "title": {
            "standoff": 15
           },
           "zerolinecolor": "white",
           "zerolinewidth": 2
          },
          "yaxis": {
           "automargin": true,
           "gridcolor": "white",
           "linecolor": "white",
           "ticks": "",
           "title": {
            "standoff": 15
           },
           "zerolinecolor": "white",
           "zerolinewidth": 2
          }
         }
        },
        "title": {
         "text": "Avg. Monthly Searches vs. Competition"
        },
        "xaxis": {
         "anchor": "y",
         "domain": [
          0,
          1
         ],
         "title": {
          "text": "Average Monthly Searches"
         }
        },
        "yaxis": {
         "anchor": "x",
         "categoryarray": [
          "High",
          "Unknown",
          "Medium",
          "Low"
         ],
         "categoryorder": "array",
         "domain": [
          0,
          1
         ],
         "title": {
          "text": "Competition"
         }
        }
       }
      }
     },
     "metadata": {},
     "output_type": "display_data"
    }
   ],
   "source": [
    "#Show the relationship between average monthly searches and competition, with bubble sizes representing the top bid.\n",
    "# Create a bubble chart\n",
    "fig = px.scatter(df, x='Avg. monthly searches', y='Competition',\n",
    "                 size='Top of page bid (high range)', color='Competition',\n",
    "                 title='Avg. Monthly Searches vs. Competition',\n",
    "                 labels={'Avg. monthly searches': 'Average Monthly Searches', 'Competition': 'Competition'},\n",
    "                 hover_name='Keyword', size_max=50)\n",
    "\n",
    "fig.show()\n"
   ]
  },
  {
   "cell_type": "code",
   "execution_count": 37,
   "metadata": {},
   "outputs": [
    {
     "data": {
      "application/vnd.plotly.v1+json": {
       "config": {
        "plotlyServerURL": "https://plot.ly"
       },
       "data": [
        {
         "alignmentgroup": "True",
         "hovertemplate": "variable=Top of page bid (low range)<br>Keyword=%{x}<br>Bid Amount=%{y}<extra></extra>",
         "legendgroup": "Top of page bid (low range)",
         "marker": {
          "color": "#636efa",
          "pattern": {
           "shape": ""
          }
         },
         "name": "Top of page bid (low range)",
         "offsetgroup": "Top of page bid (low range)",
         "orientation": "v",
         "showlegend": true,
         "textposition": "auto",
         "type": "bar",
         "x": [
          "tcs it company",
          "boston consulting group it",
          "it consulting management",
          "it consultant",
          "it services company",
          "it consulting services",
          "deloitte it consulting",
          "ey it consulting",
          "ibm it consulting",
          "it consulting & services"
         ],
         "xaxis": "x",
         "y": [
          0.69,
          26.3,
          15.55,
          19.94,
          20.93,
          24.36,
          41.01,
          54.41,
          26.51,
          24.36
         ],
         "yaxis": "y"
        },
        {
         "alignmentgroup": "True",
         "hovertemplate": "variable=Top of page bid (high range)<br>Keyword=%{x}<br>Bid Amount=%{y}<extra></extra>",
         "legendgroup": "Top of page bid (high range)",
         "marker": {
          "color": "#EF553B",
          "pattern": {
           "shape": ""
          }
         },
         "name": "Top of page bid (high range)",
         "offsetgroup": "Top of page bid (high range)",
         "orientation": "v",
         "showlegend": true,
         "textposition": "auto",
         "type": "bar",
         "x": [
          "tcs it company",
          "boston consulting group it",
          "it consulting management",
          "it consultant",
          "it services company",
          "it consulting services",
          "deloitte it consulting",
          "ey it consulting",
          "ibm it consulting",
          "it consulting & services"
         ],
         "xaxis": "x",
         "y": [
          52.73,
          180.8,
          80.35,
          77,
          60.55,
          84.91,
          172.42,
          239.72,
          104.85,
          84.91
         ],
         "yaxis": "y"
        }
       ],
       "layout": {
        "barmode": "group",
        "legend": {
         "title": {
          "text": "variable"
         },
         "tracegroupgap": 0
        },
        "template": {
         "data": {
          "bar": [
           {
            "error_x": {
             "color": "#2a3f5f"
            },
            "error_y": {
             "color": "#2a3f5f"
            },
            "marker": {
             "line": {
              "color": "#E5ECF6",
              "width": 0.5
             },
             "pattern": {
              "fillmode": "overlay",
              "size": 10,
              "solidity": 0.2
             }
            },
            "type": "bar"
           }
          ],
          "barpolar": [
           {
            "marker": {
             "line": {
              "color": "#E5ECF6",
              "width": 0.5
             },
             "pattern": {
              "fillmode": "overlay",
              "size": 10,
              "solidity": 0.2
             }
            },
            "type": "barpolar"
           }
          ],
          "carpet": [
           {
            "aaxis": {
             "endlinecolor": "#2a3f5f",
             "gridcolor": "white",
             "linecolor": "white",
             "minorgridcolor": "white",
             "startlinecolor": "#2a3f5f"
            },
            "baxis": {
             "endlinecolor": "#2a3f5f",
             "gridcolor": "white",
             "linecolor": "white",
             "minorgridcolor": "white",
             "startlinecolor": "#2a3f5f"
            },
            "type": "carpet"
           }
          ],
          "choropleth": [
           {
            "colorbar": {
             "outlinewidth": 0,
             "ticks": ""
            },
            "type": "choropleth"
           }
          ],
          "contour": [
           {
            "colorbar": {
             "outlinewidth": 0,
             "ticks": ""
            },
            "colorscale": [
             [
              0,
              "#0d0887"
             ],
             [
              0.1111111111111111,
              "#46039f"
             ],
             [
              0.2222222222222222,
              "#7201a8"
             ],
             [
              0.3333333333333333,
              "#9c179e"
             ],
             [
              0.4444444444444444,
              "#bd3786"
             ],
             [
              0.5555555555555556,
              "#d8576b"
             ],
             [
              0.6666666666666666,
              "#ed7953"
             ],
             [
              0.7777777777777778,
              "#fb9f3a"
             ],
             [
              0.8888888888888888,
              "#fdca26"
             ],
             [
              1,
              "#f0f921"
             ]
            ],
            "type": "contour"
           }
          ],
          "contourcarpet": [
           {
            "colorbar": {
             "outlinewidth": 0,
             "ticks": ""
            },
            "type": "contourcarpet"
           }
          ],
          "heatmap": [
           {
            "colorbar": {
             "outlinewidth": 0,
             "ticks": ""
            },
            "colorscale": [
             [
              0,
              "#0d0887"
             ],
             [
              0.1111111111111111,
              "#46039f"
             ],
             [
              0.2222222222222222,
              "#7201a8"
             ],
             [
              0.3333333333333333,
              "#9c179e"
             ],
             [
              0.4444444444444444,
              "#bd3786"
             ],
             [
              0.5555555555555556,
              "#d8576b"
             ],
             [
              0.6666666666666666,
              "#ed7953"
             ],
             [
              0.7777777777777778,
              "#fb9f3a"
             ],
             [
              0.8888888888888888,
              "#fdca26"
             ],
             [
              1,
              "#f0f921"
             ]
            ],
            "type": "heatmap"
           }
          ],
          "heatmapgl": [
           {
            "colorbar": {
             "outlinewidth": 0,
             "ticks": ""
            },
            "colorscale": [
             [
              0,
              "#0d0887"
             ],
             [
              0.1111111111111111,
              "#46039f"
             ],
             [
              0.2222222222222222,
              "#7201a8"
             ],
             [
              0.3333333333333333,
              "#9c179e"
             ],
             [
              0.4444444444444444,
              "#bd3786"
             ],
             [
              0.5555555555555556,
              "#d8576b"
             ],
             [
              0.6666666666666666,
              "#ed7953"
             ],
             [
              0.7777777777777778,
              "#fb9f3a"
             ],
             [
              0.8888888888888888,
              "#fdca26"
             ],
             [
              1,
              "#f0f921"
             ]
            ],
            "type": "heatmapgl"
           }
          ],
          "histogram": [
           {
            "marker": {
             "pattern": {
              "fillmode": "overlay",
              "size": 10,
              "solidity": 0.2
             }
            },
            "type": "histogram"
           }
          ],
          "histogram2d": [
           {
            "colorbar": {
             "outlinewidth": 0,
             "ticks": ""
            },
            "colorscale": [
             [
              0,
              "#0d0887"
             ],
             [
              0.1111111111111111,
              "#46039f"
             ],
             [
              0.2222222222222222,
              "#7201a8"
             ],
             [
              0.3333333333333333,
              "#9c179e"
             ],
             [
              0.4444444444444444,
              "#bd3786"
             ],
             [
              0.5555555555555556,
              "#d8576b"
             ],
             [
              0.6666666666666666,
              "#ed7953"
             ],
             [
              0.7777777777777778,
              "#fb9f3a"
             ],
             [
              0.8888888888888888,
              "#fdca26"
             ],
             [
              1,
              "#f0f921"
             ]
            ],
            "type": "histogram2d"
           }
          ],
          "histogram2dcontour": [
           {
            "colorbar": {
             "outlinewidth": 0,
             "ticks": ""
            },
            "colorscale": [
             [
              0,
              "#0d0887"
             ],
             [
              0.1111111111111111,
              "#46039f"
             ],
             [
              0.2222222222222222,
              "#7201a8"
             ],
             [
              0.3333333333333333,
              "#9c179e"
             ],
             [
              0.4444444444444444,
              "#bd3786"
             ],
             [
              0.5555555555555556,
              "#d8576b"
             ],
             [
              0.6666666666666666,
              "#ed7953"
             ],
             [
              0.7777777777777778,
              "#fb9f3a"
             ],
             [
              0.8888888888888888,
              "#fdca26"
             ],
             [
              1,
              "#f0f921"
             ]
            ],
            "type": "histogram2dcontour"
           }
          ],
          "mesh3d": [
           {
            "colorbar": {
             "outlinewidth": 0,
             "ticks": ""
            },
            "type": "mesh3d"
           }
          ],
          "parcoords": [
           {
            "line": {
             "colorbar": {
              "outlinewidth": 0,
              "ticks": ""
             }
            },
            "type": "parcoords"
           }
          ],
          "pie": [
           {
            "automargin": true,
            "type": "pie"
           }
          ],
          "scatter": [
           {
            "fillpattern": {
             "fillmode": "overlay",
             "size": 10,
             "solidity": 0.2
            },
            "type": "scatter"
           }
          ],
          "scatter3d": [
           {
            "line": {
             "colorbar": {
              "outlinewidth": 0,
              "ticks": ""
             }
            },
            "marker": {
             "colorbar": {
              "outlinewidth": 0,
              "ticks": ""
             }
            },
            "type": "scatter3d"
           }
          ],
          "scattercarpet": [
           {
            "marker": {
             "colorbar": {
              "outlinewidth": 0,
              "ticks": ""
             }
            },
            "type": "scattercarpet"
           }
          ],
          "scattergeo": [
           {
            "marker": {
             "colorbar": {
              "outlinewidth": 0,
              "ticks": ""
             }
            },
            "type": "scattergeo"
           }
          ],
          "scattergl": [
           {
            "marker": {
             "colorbar": {
              "outlinewidth": 0,
              "ticks": ""
             }
            },
            "type": "scattergl"
           }
          ],
          "scattermapbox": [
           {
            "marker": {
             "colorbar": {
              "outlinewidth": 0,
              "ticks": ""
             }
            },
            "type": "scattermapbox"
           }
          ],
          "scatterpolar": [
           {
            "marker": {
             "colorbar": {
              "outlinewidth": 0,
              "ticks": ""
             }
            },
            "type": "scatterpolar"
           }
          ],
          "scatterpolargl": [
           {
            "marker": {
             "colorbar": {
              "outlinewidth": 0,
              "ticks": ""
             }
            },
            "type": "scatterpolargl"
           }
          ],
          "scatterternary": [
           {
            "marker": {
             "colorbar": {
              "outlinewidth": 0,
              "ticks": ""
             }
            },
            "type": "scatterternary"
           }
          ],
          "surface": [
           {
            "colorbar": {
             "outlinewidth": 0,
             "ticks": ""
            },
            "colorscale": [
             [
              0,
              "#0d0887"
             ],
             [
              0.1111111111111111,
              "#46039f"
             ],
             [
              0.2222222222222222,
              "#7201a8"
             ],
             [
              0.3333333333333333,
              "#9c179e"
             ],
             [
              0.4444444444444444,
              "#bd3786"
             ],
             [
              0.5555555555555556,
              "#d8576b"
             ],
             [
              0.6666666666666666,
              "#ed7953"
             ],
             [
              0.7777777777777778,
              "#fb9f3a"
             ],
             [
              0.8888888888888888,
              "#fdca26"
             ],
             [
              1,
              "#f0f921"
             ]
            ],
            "type": "surface"
           }
          ],
          "table": [
           {
            "cells": {
             "fill": {
              "color": "#EBF0F8"
             },
             "line": {
              "color": "white"
             }
            },
            "header": {
             "fill": {
              "color": "#C8D4E3"
             },
             "line": {
              "color": "white"
             }
            },
            "type": "table"
           }
          ]
         },
         "layout": {
          "annotationdefaults": {
           "arrowcolor": "#2a3f5f",
           "arrowhead": 0,
           "arrowwidth": 1
          },
          "autotypenumbers": "strict",
          "coloraxis": {
           "colorbar": {
            "outlinewidth": 0,
            "ticks": ""
           }
          },
          "colorscale": {
           "diverging": [
            [
             0,
             "#8e0152"
            ],
            [
             0.1,
             "#c51b7d"
            ],
            [
             0.2,
             "#de77ae"
            ],
            [
             0.3,
             "#f1b6da"
            ],
            [
             0.4,
             "#fde0ef"
            ],
            [
             0.5,
             "#f7f7f7"
            ],
            [
             0.6,
             "#e6f5d0"
            ],
            [
             0.7,
             "#b8e186"
            ],
            [
             0.8,
             "#7fbc41"
            ],
            [
             0.9,
             "#4d9221"
            ],
            [
             1,
             "#276419"
            ]
           ],
           "sequential": [
            [
             0,
             "#0d0887"
            ],
            [
             0.1111111111111111,
             "#46039f"
            ],
            [
             0.2222222222222222,
             "#7201a8"
            ],
            [
             0.3333333333333333,
             "#9c179e"
            ],
            [
             0.4444444444444444,
             "#bd3786"
            ],
            [
             0.5555555555555556,
             "#d8576b"
            ],
            [
             0.6666666666666666,
             "#ed7953"
            ],
            [
             0.7777777777777778,
             "#fb9f3a"
            ],
            [
             0.8888888888888888,
             "#fdca26"
            ],
            [
             1,
             "#f0f921"
            ]
           ],
           "sequentialminus": [
            [
             0,
             "#0d0887"
            ],
            [
             0.1111111111111111,
             "#46039f"
            ],
            [
             0.2222222222222222,
             "#7201a8"
            ],
            [
             0.3333333333333333,
             "#9c179e"
            ],
            [
             0.4444444444444444,
             "#bd3786"
            ],
            [
             0.5555555555555556,
             "#d8576b"
            ],
            [
             0.6666666666666666,
             "#ed7953"
            ],
            [
             0.7777777777777778,
             "#fb9f3a"
            ],
            [
             0.8888888888888888,
             "#fdca26"
            ],
            [
             1,
             "#f0f921"
            ]
           ]
          },
          "colorway": [
           "#636efa",
           "#EF553B",
           "#00cc96",
           "#ab63fa",
           "#FFA15A",
           "#19d3f3",
           "#FF6692",
           "#B6E880",
           "#FF97FF",
           "#FECB52"
          ],
          "font": {
           "color": "#2a3f5f"
          },
          "geo": {
           "bgcolor": "white",
           "lakecolor": "white",
           "landcolor": "#E5ECF6",
           "showlakes": true,
           "showland": true,
           "subunitcolor": "white"
          },
          "hoverlabel": {
           "align": "left"
          },
          "hovermode": "closest",
          "mapbox": {
           "style": "light"
          },
          "paper_bgcolor": "white",
          "plot_bgcolor": "#E5ECF6",
          "polar": {
           "angularaxis": {
            "gridcolor": "white",
            "linecolor": "white",
            "ticks": ""
           },
           "bgcolor": "#E5ECF6",
           "radialaxis": {
            "gridcolor": "white",
            "linecolor": "white",
            "ticks": ""
           }
          },
          "scene": {
           "xaxis": {
            "backgroundcolor": "#E5ECF6",
            "gridcolor": "white",
            "gridwidth": 2,
            "linecolor": "white",
            "showbackground": true,
            "ticks": "",
            "zerolinecolor": "white"
           },
           "yaxis": {
            "backgroundcolor": "#E5ECF6",
            "gridcolor": "white",
            "gridwidth": 2,
            "linecolor": "white",
            "showbackground": true,
            "ticks": "",
            "zerolinecolor": "white"
           },
           "zaxis": {
            "backgroundcolor": "#E5ECF6",
            "gridcolor": "white",
            "gridwidth": 2,
            "linecolor": "white",
            "showbackground": true,
            "ticks": "",
            "zerolinecolor": "white"
           }
          },
          "shapedefaults": {
           "line": {
            "color": "#2a3f5f"
           }
          },
          "ternary": {
           "aaxis": {
            "gridcolor": "white",
            "linecolor": "white",
            "ticks": ""
           },
           "baxis": {
            "gridcolor": "white",
            "linecolor": "white",
            "ticks": ""
           },
           "bgcolor": "#E5ECF6",
           "caxis": {
            "gridcolor": "white",
            "linecolor": "white",
            "ticks": ""
           }
          },
          "title": {
           "x": 0.05
          },
          "xaxis": {
           "automargin": true,
           "gridcolor": "white",
           "linecolor": "white",
           "ticks": "",
           "title": {
            "standoff": 15
           },
           "zerolinecolor": "white",
           "zerolinewidth": 2
          },
          "yaxis": {
           "automargin": true,
           "gridcolor": "white",
           "linecolor": "white",
           "ticks": "",
           "title": {
            "standoff": 15
           },
           "zerolinecolor": "white",
           "zerolinewidth": 2
          }
         }
        },
        "title": {
         "text": "Comparison of Low and High Page Bids for Top Keywords"
        },
        "xaxis": {
         "anchor": "y",
         "domain": [
          0,
          1
         ],
         "title": {
          "text": "Keyword"
         }
        },
        "yaxis": {
         "anchor": "x",
         "domain": [
          0,
          1
         ],
         "title": {
          "text": "Bid Amount"
         }
        }
       }
      }
     },
     "metadata": {},
     "output_type": "display_data"
    }
   ],
   "source": [
    "\n",
    "\n",
    "# Convert relevant columns to numeric, forcing errors to NaN\n",
    "df['Top of page bid (low range)'] = pd.to_numeric(df['Top of page bid (low range)'], errors='coerce')\n",
    "df['Top of page bid (high range)'] = pd.to_numeric(df['Top of page bid (high range)'], errors='coerce')\n",
    "df['Avg. monthly searches'] = pd.to_numeric(df['Avg. monthly searches'], errors='coerce')\n",
    "\n",
    "# Drop rows with NaN values in the relevant columns\n",
    "df = df.dropna(subset=['Top of page bid (low range)', 'Top of page bid (high range)', 'Avg. monthly searches'])\n",
    "\n",
    "# Get top keywords by average monthly searches\n",
    "top_bid_comparison = df.nlargest(10, 'Avg. monthly searches')\n",
    "\n",
    "# Create a bar chart comparing low and high bids\n",
    "fig = px.bar(top_bid_comparison, x='Keyword', \n",
    "             y=['Top of page bid (low range)', 'Top of page bid (high range)'],\n",
    "             title='Comparison of Low and High Page Bids for Top Keywords',\n",
    "             labels={'value': 'Bid Amount'},\n",
    "             barmode='group')\n",
    "\n",
    "fig.show()\n"
   ]
  },
  {
   "cell_type": "code",
   "execution_count": 40,
   "metadata": {},
   "outputs": [],
   "source": [
    "# import seaborn as sns\n",
    "# import matplotlib.pyplot as plt\n",
    "\n",
    "# # Calculate the correlation matrix\n",
    "# correlation_matrix = df.corr()\n",
    "\n",
    "# # Create a heatmap\n",
    "# plt.figure(figsize=(10, 6))\n",
    "# sns.heatmap(correlation_matrix, annot=True, fmt='.2f', cmap='coolwarm', cbar=True, square=True)\n",
    "# plt.title('Correlation Matrix of SEO Metrics')\n",
    "# plt.show()\n"
   ]
  },
  {
   "cell_type": "code",
   "execution_count": null,
   "metadata": {},
   "outputs": [],
   "source": []
  }
 ],
 "metadata": {
  "kernelspec": {
   "display_name": "Python 3",
   "language": "python",
   "name": "python3"
  },
  "language_info": {
   "codemirror_mode": {
    "name": "ipython",
    "version": 3
   },
   "file_extension": ".py",
   "mimetype": "text/x-python",
   "name": "python",
   "nbconvert_exporter": "python",
   "pygments_lexer": "ipython3",
   "version": "3.12.3"
  }
 },
 "nbformat": 4,
 "nbformat_minor": 2
}
